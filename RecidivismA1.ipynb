{
  "nbformat": 4,
  "nbformat_minor": 0,
  "metadata": {
    "colab": {
      "name": "RecidivismA1.ipynb",
      "provenance": [],
      "collapsed_sections": [],
      "include_colab_link": true
    },
    "kernelspec": {
      "name": "python3",
      "display_name": "Python 3"
    }
  },
  "cells": [
    {
      "cell_type": "markdown",
      "metadata": {
        "id": "view-in-github",
        "colab_type": "text"
      },
      "source": [
        "<a href=\"https://colab.research.google.com/github/alagrin/masters_coursework/blob/master/RecidivismA1.ipynb\" target=\"_parent\"><img src=\"https://colab.research.google.com/assets/colab-badge.svg\" alt=\"Open In Colab\"/></a>"
      ]
    },
    {
      "cell_type": "code",
      "metadata": {
        "id": "1p-X89p7Fp2c",
        "colab_type": "code",
        "outputId": "c0e7e884-d971-4b2b-c2e0-c9e85a6a7258",
        "colab": {
          "base_uri": "https://localhost:8080/",
          "height": 63
        }
      },
      "source": [
        "import pandas as pd\n",
        "import numpy as np\n",
        "from IPython.display import display\n",
        "from datetime import datetime\n",
        "from dateutil.relativedelta import relativedelta\n",
        "from dateutil.parser import parse\n",
        "import tensorflow as tf\n",
        "from tensorflow import keras\n",
        "import math\n",
        "import matplotlib.pyplot as plt\n",
        "\n",
        "# The file names\n",
        "RAW = 'compas-scores-raw.csv'\n",
        "TWO_YEARS = 'compas-scores-two-years.csv'\n",
        "\n",
        "# Date formats\n",
        "# %m = zero-padded month, %d = zero-padded day, %y = two-digit year\n",
        "RAW_DATE = '%m/%d/%y' \n",
        "TWO_YEARS_DATE = '%Y-%m-%d'"
      ],
      "execution_count": 3,
      "outputs": [
        {
          "output_type": "display_data",
          "data": {
            "text/html": [
              "<p style=\"color: red;\">\n",
              "The default version of TensorFlow in Colab will soon switch to TensorFlow 2.x.<br>\n",
              "We recommend you <a href=\"https://www.tensorflow.org/guide/migrate\" target=\"_blank\">upgrade</a> now \n",
              "or ensure your notebook will continue to use TensorFlow 1.x via the <code>%tensorflow_version 1.x</code> magic:\n",
              "<a href=\"https://colab.research.google.com/notebooks/tensorflow_version.ipynb\" target=\"_blank\">more info</a>.</p>\n"
            ],
            "text/plain": [
              "<IPython.core.display.HTML object>"
            ]
          },
          "metadata": {
            "tags": []
          }
        }
      ]
    },
    {
      "cell_type": "code",
      "metadata": {
        "id": "RRsC1MpvH1S5",
        "colab_type": "code",
        "outputId": "15d49295-caff-418e-ae85-a83708f89770",
        "colab": {
          "resources": {
            "http://localhost:8080/nbextensions/google.colab/files.js": {
              "data": "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",
              "ok": true,
              "headers": [
                [
                  "content-type",
                  "application/javascript"
                ]
              ],
              "status": 200,
              "status_text": ""
            }
          },
          "base_uri": "https://localhost:8080/",
          "height": 122
        }
      },
      "source": [
        "from google.colab import files\n",
        "import os\n",
        "\n",
        "\n",
        "def get_data(file_name):\n",
        "  # Check if the file has already been uploaded\n",
        "  exists = os.path.isfile(file_name)\n",
        "  # If the file is not already uploaded, show the file upload widget. Notebooks\n",
        "  # reset every 12 hours.\n",
        "  if not exists:\n",
        "    print(\"Select the file\", file_name)\n",
        "    uploaded = files.upload()\n",
        "    \n",
        "    for fn in uploaded.keys():\n",
        "      print(\"Uploaded file {name} with length {length} bytes\".format(\n",
        "          name=fn, length=len(uploaded[fn])))\n",
        "  else:\n",
        "    print(file_name, \"already uploaded.\")\n",
        "  # Save the contents of the file as a Pandas dataframe\n",
        "  df = pd.read_csv(file_name)\n",
        "  return df\n",
        "\n",
        "df_raw = get_data(RAW)\n",
        "df_all = get_data(TWO_YEARS)"
      ],
      "execution_count": 5,
      "outputs": [
        {
          "output_type": "stream",
          "text": [
            "compas-scores-raw.csv already uploaded.\n",
            "Select the file compas-scores-two-years.csv\n"
          ],
          "name": "stdout"
        },
        {
          "output_type": "display_data",
          "data": {
            "text/html": [
              "\n",
              "     <input type=\"file\" id=\"files-2b5a49cd-6408-4b4b-9c3a-80e22a616c25\" name=\"files[]\" multiple disabled />\n",
              "     <output id=\"result-2b5a49cd-6408-4b4b-9c3a-80e22a616c25\">\n",
              "      Upload widget is only available when the cell has been executed in the\n",
              "      current browser session. Please rerun this cell to enable.\n",
              "      </output>\n",
              "      <script src=\"/nbextensions/google.colab/files.js\"></script> "
            ],
            "text/plain": [
              "<IPython.core.display.HTML object>"
            ]
          },
          "metadata": {
            "tags": []
          }
        },
        {
          "output_type": "stream",
          "text": [
            "Saving compas-scores-two-years.csv to compas-scores-two-years.csv\n",
            "Uploaded file compas-scores-two-years.csv with length 2546489 bytes\n"
          ],
          "name": "stdout"
        }
      ]
    },
    {
      "cell_type": "code",
      "metadata": {
        "id": "RCD1pOWg9q-t",
        "colab_type": "code",
        "outputId": "df11c2b8-2833-4995-fed6-30ae515ce48c",
        "colab": {
          "base_uri": "https://localhost:8080/",
          "height": 855
        }
      },
      "source": [
        "print(\"df_raw: Compas score raw\")\n",
        "display(df_raw.head(10))\n",
        "print(\"df_all: Compas score two years\")\n",
        "display(df_all.head(5))"
      ],
      "execution_count": 170,
      "outputs": [
        {
          "output_type": "stream",
          "text": [
            "df_raw: Compas score raw\n"
          ],
          "name": "stdout"
        },
        {
          "output_type": "display_data",
          "data": {
            "text/html": [
              "<div>\n",
              "<style scoped>\n",
              "    .dataframe tbody tr th:only-of-type {\n",
              "        vertical-align: middle;\n",
              "    }\n",
              "\n",
              "    .dataframe tbody tr th {\n",
              "        vertical-align: top;\n",
              "    }\n",
              "\n",
              "    .dataframe thead th {\n",
              "        text-align: right;\n",
              "    }\n",
              "</style>\n",
              "<table border=\"1\" class=\"dataframe\">\n",
              "  <thead>\n",
              "    <tr style=\"text-align: right;\">\n",
              "      <th></th>\n",
              "      <th>Person_ID</th>\n",
              "      <th>AssessmentID</th>\n",
              "      <th>Case_ID</th>\n",
              "      <th>Agency_Text</th>\n",
              "      <th>LastName</th>\n",
              "      <th>FirstName</th>\n",
              "      <th>MiddleName</th>\n",
              "      <th>Sex_Code_Text</th>\n",
              "      <th>Ethnic_Code_Text</th>\n",
              "      <th>DateOfBirth</th>\n",
              "      <th>ScaleSet_ID</th>\n",
              "      <th>ScaleSet</th>\n",
              "      <th>AssessmentReason</th>\n",
              "      <th>Language</th>\n",
              "      <th>LegalStatus</th>\n",
              "      <th>CustodyStatus</th>\n",
              "      <th>MaritalStatus</th>\n",
              "      <th>Screening_Date</th>\n",
              "      <th>RecSupervisionLevel</th>\n",
              "      <th>RecSupervisionLevelText</th>\n",
              "      <th>Scale_ID</th>\n",
              "      <th>DisplayText</th>\n",
              "      <th>RawScore</th>\n",
              "      <th>DecileScore</th>\n",
              "      <th>ScoreText</th>\n",
              "      <th>AssessmentType</th>\n",
              "      <th>IsCompleted</th>\n",
              "      <th>IsDeleted</th>\n",
              "    </tr>\n",
              "  </thead>\n",
              "  <tbody>\n",
              "    <tr>\n",
              "      <th>0</th>\n",
              "      <td>50844</td>\n",
              "      <td>57167</td>\n",
              "      <td>51950</td>\n",
              "      <td>pretrial</td>\n",
              "      <td>fisher</td>\n",
              "      <td>kevin</td>\n",
              "      <td>NaN</td>\n",
              "      <td>male</td>\n",
              "      <td>caucasian</td>\n",
              "      <td>1992-12-05</td>\n",
              "      <td>22</td>\n",
              "      <td>risk and prescreen</td>\n",
              "      <td>intake</td>\n",
              "      <td>english</td>\n",
              "      <td>pretrial</td>\n",
              "      <td>jail inmate</td>\n",
              "      <td>single</td>\n",
              "      <td>2013-01-01</td>\n",
              "      <td>1</td>\n",
              "      <td>low</td>\n",
              "      <td>7</td>\n",
              "      <td>risk of violence</td>\n",
              "      <td>-2.08</td>\n",
              "      <td>4</td>\n",
              "      <td>low</td>\n",
              "      <td>new</td>\n",
              "      <td>1</td>\n",
              "      <td>0</td>\n",
              "    </tr>\n",
              "    <tr>\n",
              "      <th>1</th>\n",
              "      <td>50844</td>\n",
              "      <td>57167</td>\n",
              "      <td>51950</td>\n",
              "      <td>pretrial</td>\n",
              "      <td>fisher</td>\n",
              "      <td>kevin</td>\n",
              "      <td>NaN</td>\n",
              "      <td>male</td>\n",
              "      <td>caucasian</td>\n",
              "      <td>1992-12-05</td>\n",
              "      <td>22</td>\n",
              "      <td>risk and prescreen</td>\n",
              "      <td>intake</td>\n",
              "      <td>english</td>\n",
              "      <td>pretrial</td>\n",
              "      <td>jail inmate</td>\n",
              "      <td>single</td>\n",
              "      <td>2013-01-01</td>\n",
              "      <td>1</td>\n",
              "      <td>low</td>\n",
              "      <td>8</td>\n",
              "      <td>risk of recidivism</td>\n",
              "      <td>-1.06</td>\n",
              "      <td>2</td>\n",
              "      <td>low</td>\n",
              "      <td>new</td>\n",
              "      <td>1</td>\n",
              "      <td>0</td>\n",
              "    </tr>\n",
              "    <tr>\n",
              "      <th>2</th>\n",
              "      <td>50844</td>\n",
              "      <td>57167</td>\n",
              "      <td>51950</td>\n",
              "      <td>pretrial</td>\n",
              "      <td>fisher</td>\n",
              "      <td>kevin</td>\n",
              "      <td>NaN</td>\n",
              "      <td>male</td>\n",
              "      <td>caucasian</td>\n",
              "      <td>1992-12-05</td>\n",
              "      <td>22</td>\n",
              "      <td>risk and prescreen</td>\n",
              "      <td>intake</td>\n",
              "      <td>english</td>\n",
              "      <td>pretrial</td>\n",
              "      <td>jail inmate</td>\n",
              "      <td>single</td>\n",
              "      <td>2013-01-01</td>\n",
              "      <td>1</td>\n",
              "      <td>low</td>\n",
              "      <td>18</td>\n",
              "      <td>risk of failure to appear</td>\n",
              "      <td>15.00</td>\n",
              "      <td>1</td>\n",
              "      <td>low</td>\n",
              "      <td>new</td>\n",
              "      <td>1</td>\n",
              "      <td>0</td>\n",
              "    </tr>\n",
              "    <tr>\n",
              "      <th>3</th>\n",
              "      <td>50848</td>\n",
              "      <td>57174</td>\n",
              "      <td>51956</td>\n",
              "      <td>pretrial</td>\n",
              "      <td>kendall</td>\n",
              "      <td>kevin</td>\n",
              "      <td>NaN</td>\n",
              "      <td>male</td>\n",
              "      <td>caucasian</td>\n",
              "      <td>1984-09-16</td>\n",
              "      <td>22</td>\n",
              "      <td>risk and prescreen</td>\n",
              "      <td>intake</td>\n",
              "      <td>english</td>\n",
              "      <td>pretrial</td>\n",
              "      <td>jail inmate</td>\n",
              "      <td>married</td>\n",
              "      <td>2013-01-01</td>\n",
              "      <td>1</td>\n",
              "      <td>low</td>\n",
              "      <td>7</td>\n",
              "      <td>risk of violence</td>\n",
              "      <td>-2.84</td>\n",
              "      <td>2</td>\n",
              "      <td>low</td>\n",
              "      <td>new</td>\n",
              "      <td>1</td>\n",
              "      <td>0</td>\n",
              "    </tr>\n",
              "    <tr>\n",
              "      <th>4</th>\n",
              "      <td>50848</td>\n",
              "      <td>57174</td>\n",
              "      <td>51956</td>\n",
              "      <td>pretrial</td>\n",
              "      <td>kendall</td>\n",
              "      <td>kevin</td>\n",
              "      <td>NaN</td>\n",
              "      <td>male</td>\n",
              "      <td>caucasian</td>\n",
              "      <td>1984-09-16</td>\n",
              "      <td>22</td>\n",
              "      <td>risk and prescreen</td>\n",
              "      <td>intake</td>\n",
              "      <td>english</td>\n",
              "      <td>pretrial</td>\n",
              "      <td>jail inmate</td>\n",
              "      <td>married</td>\n",
              "      <td>2013-01-01</td>\n",
              "      <td>1</td>\n",
              "      <td>low</td>\n",
              "      <td>8</td>\n",
              "      <td>risk of recidivism</td>\n",
              "      <td>-1.50</td>\n",
              "      <td>1</td>\n",
              "      <td>low</td>\n",
              "      <td>new</td>\n",
              "      <td>1</td>\n",
              "      <td>0</td>\n",
              "    </tr>\n",
              "    <tr>\n",
              "      <th>5</th>\n",
              "      <td>50848</td>\n",
              "      <td>57174</td>\n",
              "      <td>51956</td>\n",
              "      <td>pretrial</td>\n",
              "      <td>kendall</td>\n",
              "      <td>kevin</td>\n",
              "      <td>NaN</td>\n",
              "      <td>male</td>\n",
              "      <td>caucasian</td>\n",
              "      <td>1984-09-16</td>\n",
              "      <td>22</td>\n",
              "      <td>risk and prescreen</td>\n",
              "      <td>intake</td>\n",
              "      <td>english</td>\n",
              "      <td>pretrial</td>\n",
              "      <td>jail inmate</td>\n",
              "      <td>married</td>\n",
              "      <td>2013-01-01</td>\n",
              "      <td>1</td>\n",
              "      <td>low</td>\n",
              "      <td>18</td>\n",
              "      <td>risk of failure to appear</td>\n",
              "      <td>19.00</td>\n",
              "      <td>3</td>\n",
              "      <td>low</td>\n",
              "      <td>new</td>\n",
              "      <td>1</td>\n",
              "      <td>0</td>\n",
              "    </tr>\n",
              "    <tr>\n",
              "      <th>6</th>\n",
              "      <td>50855</td>\n",
              "      <td>57181</td>\n",
              "      <td>51963</td>\n",
              "      <td>pretrial</td>\n",
              "      <td>dayes</td>\n",
              "      <td>daniel</td>\n",
              "      <td>NaN</td>\n",
              "      <td>male</td>\n",
              "      <td>african-american</td>\n",
              "      <td>1994-08-25</td>\n",
              "      <td>22</td>\n",
              "      <td>risk and prescreen</td>\n",
              "      <td>intake</td>\n",
              "      <td>english</td>\n",
              "      <td>pretrial</td>\n",
              "      <td>jail inmate</td>\n",
              "      <td>single</td>\n",
              "      <td>2013-01-01</td>\n",
              "      <td>4</td>\n",
              "      <td>high</td>\n",
              "      <td>7</td>\n",
              "      <td>risk of violence</td>\n",
              "      <td>-1.20</td>\n",
              "      <td>8</td>\n",
              "      <td>high</td>\n",
              "      <td>new</td>\n",
              "      <td>1</td>\n",
              "      <td>0</td>\n",
              "    </tr>\n",
              "    <tr>\n",
              "      <th>7</th>\n",
              "      <td>50855</td>\n",
              "      <td>57181</td>\n",
              "      <td>51963</td>\n",
              "      <td>pretrial</td>\n",
              "      <td>dayes</td>\n",
              "      <td>daniel</td>\n",
              "      <td>NaN</td>\n",
              "      <td>male</td>\n",
              "      <td>african-american</td>\n",
              "      <td>1994-08-25</td>\n",
              "      <td>22</td>\n",
              "      <td>risk and prescreen</td>\n",
              "      <td>intake</td>\n",
              "      <td>english</td>\n",
              "      <td>pretrial</td>\n",
              "      <td>jail inmate</td>\n",
              "      <td>single</td>\n",
              "      <td>2013-01-01</td>\n",
              "      <td>4</td>\n",
              "      <td>high</td>\n",
              "      <td>8</td>\n",
              "      <td>risk of recidivism</td>\n",
              "      <td>0.18</td>\n",
              "      <td>8</td>\n",
              "      <td>high</td>\n",
              "      <td>new</td>\n",
              "      <td>1</td>\n",
              "      <td>0</td>\n",
              "    </tr>\n",
              "    <tr>\n",
              "      <th>8</th>\n",
              "      <td>50855</td>\n",
              "      <td>57181</td>\n",
              "      <td>51963</td>\n",
              "      <td>pretrial</td>\n",
              "      <td>dayes</td>\n",
              "      <td>daniel</td>\n",
              "      <td>NaN</td>\n",
              "      <td>male</td>\n",
              "      <td>african-american</td>\n",
              "      <td>1994-08-25</td>\n",
              "      <td>22</td>\n",
              "      <td>risk and prescreen</td>\n",
              "      <td>intake</td>\n",
              "      <td>english</td>\n",
              "      <td>pretrial</td>\n",
              "      <td>jail inmate</td>\n",
              "      <td>single</td>\n",
              "      <td>2013-01-01</td>\n",
              "      <td>4</td>\n",
              "      <td>high</td>\n",
              "      <td>18</td>\n",
              "      <td>risk of failure to appear</td>\n",
              "      <td>13.00</td>\n",
              "      <td>1</td>\n",
              "      <td>low</td>\n",
              "      <td>new</td>\n",
              "      <td>1</td>\n",
              "      <td>0</td>\n",
              "    </tr>\n",
              "    <tr>\n",
              "      <th>9</th>\n",
              "      <td>50850</td>\n",
              "      <td>57176</td>\n",
              "      <td>51958</td>\n",
              "      <td>pretrial</td>\n",
              "      <td>debe</td>\n",
              "      <td>mikerlie</td>\n",
              "      <td>george</td>\n",
              "      <td>female</td>\n",
              "      <td>african-american</td>\n",
              "      <td>1994-10-09</td>\n",
              "      <td>22</td>\n",
              "      <td>risk and prescreen</td>\n",
              "      <td>intake</td>\n",
              "      <td>english</td>\n",
              "      <td>pretrial</td>\n",
              "      <td>jail inmate</td>\n",
              "      <td>significant other</td>\n",
              "      <td>2013-01-01</td>\n",
              "      <td>2</td>\n",
              "      <td>medium</td>\n",
              "      <td>7</td>\n",
              "      <td>risk of violence</td>\n",
              "      <td>-1.29</td>\n",
              "      <td>7</td>\n",
              "      <td>medium</td>\n",
              "      <td>new</td>\n",
              "      <td>1</td>\n",
              "      <td>0</td>\n",
              "    </tr>\n",
              "  </tbody>\n",
              "</table>\n",
              "</div>"
            ],
            "text/plain": [
              "   Person_ID  AssessmentID  Case_ID  ... AssessmentType IsCompleted IsDeleted\n",
              "0      50844         57167    51950  ...            new           1         0\n",
              "1      50844         57167    51950  ...            new           1         0\n",
              "2      50844         57167    51950  ...            new           1         0\n",
              "3      50848         57174    51956  ...            new           1         0\n",
              "4      50848         57174    51956  ...            new           1         0\n",
              "5      50848         57174    51956  ...            new           1         0\n",
              "6      50855         57181    51963  ...            new           1         0\n",
              "7      50855         57181    51963  ...            new           1         0\n",
              "8      50855         57181    51963  ...            new           1         0\n",
              "9      50850         57176    51958  ...            new           1         0\n",
              "\n",
              "[10 rows x 28 columns]"
            ]
          },
          "metadata": {
            "tags": []
          }
        },
        {
          "output_type": "stream",
          "text": [
            "df_all: Compas score two years\n"
          ],
          "name": "stdout"
        },
        {
          "output_type": "display_data",
          "data": {
            "text/html": [
              "<div>\n",
              "<style scoped>\n",
              "    .dataframe tbody tr th:only-of-type {\n",
              "        vertical-align: middle;\n",
              "    }\n",
              "\n",
              "    .dataframe tbody tr th {\n",
              "        vertical-align: top;\n",
              "    }\n",
              "\n",
              "    .dataframe thead th {\n",
              "        text-align: right;\n",
              "    }\n",
              "</style>\n",
              "<table border=\"1\" class=\"dataframe\">\n",
              "  <thead>\n",
              "    <tr style=\"text-align: right;\">\n",
              "      <th></th>\n",
              "      <th>id</th>\n",
              "      <th>name</th>\n",
              "      <th>first</th>\n",
              "      <th>last</th>\n",
              "      <th>compas_screening_date</th>\n",
              "      <th>sex</th>\n",
              "      <th>dob</th>\n",
              "      <th>age</th>\n",
              "      <th>age_cat</th>\n",
              "      <th>race</th>\n",
              "      <th>juv_fel_count</th>\n",
              "      <th>decile_score</th>\n",
              "      <th>juv_misd_count</th>\n",
              "      <th>juv_other_count</th>\n",
              "      <th>priors_count</th>\n",
              "      <th>days_b_screening_arrest</th>\n",
              "      <th>c_jail_in</th>\n",
              "      <th>c_jail_out</th>\n",
              "      <th>c_case_number</th>\n",
              "      <th>c_offense_date</th>\n",
              "      <th>c_arrest_date</th>\n",
              "      <th>c_days_from_compas</th>\n",
              "      <th>c_charge_degree</th>\n",
              "      <th>c_charge_desc</th>\n",
              "      <th>is_recid</th>\n",
              "      <th>r_case_number</th>\n",
              "      <th>r_charge_degree</th>\n",
              "      <th>r_days_from_arrest</th>\n",
              "      <th>r_offense_date</th>\n",
              "      <th>r_charge_desc</th>\n",
              "      <th>r_jail_in</th>\n",
              "      <th>r_jail_out</th>\n",
              "      <th>violent_recid</th>\n",
              "      <th>is_violent_recid</th>\n",
              "      <th>vr_case_number</th>\n",
              "      <th>vr_charge_degree</th>\n",
              "      <th>vr_offense_date</th>\n",
              "      <th>vr_charge_desc</th>\n",
              "      <th>type_of_assessment</th>\n",
              "      <th>decile_score.1</th>\n",
              "      <th>score_text</th>\n",
              "      <th>screening_date</th>\n",
              "      <th>v_type_of_assessment</th>\n",
              "      <th>v_decile_score</th>\n",
              "      <th>v_score_text</th>\n",
              "      <th>v_screening_date</th>\n",
              "      <th>in_custody</th>\n",
              "      <th>out_custody</th>\n",
              "      <th>priors_count.1</th>\n",
              "      <th>start</th>\n",
              "      <th>end</th>\n",
              "      <th>event</th>\n",
              "      <th>two_year_recid</th>\n",
              "    </tr>\n",
              "  </thead>\n",
              "  <tbody>\n",
              "    <tr>\n",
              "      <th>0</th>\n",
              "      <td>1</td>\n",
              "      <td>miguel hernandez</td>\n",
              "      <td>miguel</td>\n",
              "      <td>hernandez</td>\n",
              "      <td>2013-08-14</td>\n",
              "      <td>male</td>\n",
              "      <td>1947-04-18</td>\n",
              "      <td>69</td>\n",
              "      <td>greater than 45</td>\n",
              "      <td>other</td>\n",
              "      <td>0</td>\n",
              "      <td>1</td>\n",
              "      <td>0</td>\n",
              "      <td>0</td>\n",
              "      <td>0</td>\n",
              "      <td>-1.0</td>\n",
              "      <td>2013-08-13</td>\n",
              "      <td>2013-08-14</td>\n",
              "      <td>13011352cf10a</td>\n",
              "      <td>2013-08-13</td>\n",
              "      <td>NaT</td>\n",
              "      <td>1.0</td>\n",
              "      <td>f</td>\n",
              "      <td>aggravated assault w/firearm</td>\n",
              "      <td>0</td>\n",
              "      <td>NaN</td>\n",
              "      <td>NaN</td>\n",
              "      <td>NaN</td>\n",
              "      <td>NaT</td>\n",
              "      <td>NaN</td>\n",
              "      <td>NaN</td>\n",
              "      <td>NaN</td>\n",
              "      <td>NaN</td>\n",
              "      <td>0</td>\n",
              "      <td>NaN</td>\n",
              "      <td>NaN</td>\n",
              "      <td>NaT</td>\n",
              "      <td>NaN</td>\n",
              "      <td>risk of recidivism</td>\n",
              "      <td>1</td>\n",
              "      <td>low</td>\n",
              "      <td>2013-08-14</td>\n",
              "      <td>risk of violence</td>\n",
              "      <td>1</td>\n",
              "      <td>low</td>\n",
              "      <td>2013-08-14</td>\n",
              "      <td>2014-07-07</td>\n",
              "      <td>2014-07-14</td>\n",
              "      <td>0</td>\n",
              "      <td>0</td>\n",
              "      <td>327</td>\n",
              "      <td>0</td>\n",
              "      <td>0</td>\n",
              "    </tr>\n",
              "    <tr>\n",
              "      <th>1</th>\n",
              "      <td>3</td>\n",
              "      <td>kevon dixon</td>\n",
              "      <td>kevon</td>\n",
              "      <td>dixon</td>\n",
              "      <td>2013-01-27</td>\n",
              "      <td>male</td>\n",
              "      <td>1982-01-22</td>\n",
              "      <td>34</td>\n",
              "      <td>25 - 45</td>\n",
              "      <td>african-american</td>\n",
              "      <td>0</td>\n",
              "      <td>3</td>\n",
              "      <td>0</td>\n",
              "      <td>0</td>\n",
              "      <td>0</td>\n",
              "      <td>-1.0</td>\n",
              "      <td>2013-01-26</td>\n",
              "      <td>2013-02-05</td>\n",
              "      <td>13001275cf10a</td>\n",
              "      <td>2013-01-26</td>\n",
              "      <td>NaT</td>\n",
              "      <td>1.0</td>\n",
              "      <td>f</td>\n",
              "      <td>felony battery w/prior convict</td>\n",
              "      <td>1</td>\n",
              "      <td>13009779cf10a</td>\n",
              "      <td>(f3)</td>\n",
              "      <td>NaN</td>\n",
              "      <td>2013-07-05</td>\n",
              "      <td>felony battery (dom strang)</td>\n",
              "      <td>NaN</td>\n",
              "      <td>NaN</td>\n",
              "      <td>NaN</td>\n",
              "      <td>1</td>\n",
              "      <td>13009779cf10a</td>\n",
              "      <td>(f3)</td>\n",
              "      <td>2013-07-05</td>\n",
              "      <td>felony battery (dom strang)</td>\n",
              "      <td>risk of recidivism</td>\n",
              "      <td>3</td>\n",
              "      <td>low</td>\n",
              "      <td>2013-01-27</td>\n",
              "      <td>risk of violence</td>\n",
              "      <td>1</td>\n",
              "      <td>low</td>\n",
              "      <td>2013-01-27</td>\n",
              "      <td>2013-01-26</td>\n",
              "      <td>2013-02-05</td>\n",
              "      <td>0</td>\n",
              "      <td>9</td>\n",
              "      <td>159</td>\n",
              "      <td>1</td>\n",
              "      <td>1</td>\n",
              "    </tr>\n",
              "    <tr>\n",
              "      <th>2</th>\n",
              "      <td>4</td>\n",
              "      <td>ed philo</td>\n",
              "      <td>ed</td>\n",
              "      <td>philo</td>\n",
              "      <td>2013-04-14</td>\n",
              "      <td>male</td>\n",
              "      <td>1991-05-14</td>\n",
              "      <td>24</td>\n",
              "      <td>less than 25</td>\n",
              "      <td>african-american</td>\n",
              "      <td>0</td>\n",
              "      <td>4</td>\n",
              "      <td>0</td>\n",
              "      <td>1</td>\n",
              "      <td>4</td>\n",
              "      <td>-1.0</td>\n",
              "      <td>2013-04-13</td>\n",
              "      <td>2013-04-14</td>\n",
              "      <td>13005330cf10a</td>\n",
              "      <td>2013-04-13</td>\n",
              "      <td>NaT</td>\n",
              "      <td>1.0</td>\n",
              "      <td>f</td>\n",
              "      <td>possession of cocaine</td>\n",
              "      <td>1</td>\n",
              "      <td>13011511mm10a</td>\n",
              "      <td>(m1)</td>\n",
              "      <td>0.0</td>\n",
              "      <td>2013-06-16</td>\n",
              "      <td>driving under the influence</td>\n",
              "      <td>2013-06-16</td>\n",
              "      <td>2013-06-16</td>\n",
              "      <td>NaN</td>\n",
              "      <td>0</td>\n",
              "      <td>NaN</td>\n",
              "      <td>NaN</td>\n",
              "      <td>NaT</td>\n",
              "      <td>NaN</td>\n",
              "      <td>risk of recidivism</td>\n",
              "      <td>4</td>\n",
              "      <td>low</td>\n",
              "      <td>2013-04-14</td>\n",
              "      <td>risk of violence</td>\n",
              "      <td>3</td>\n",
              "      <td>low</td>\n",
              "      <td>2013-04-14</td>\n",
              "      <td>2013-06-16</td>\n",
              "      <td>2013-06-16</td>\n",
              "      <td>4</td>\n",
              "      <td>0</td>\n",
              "      <td>63</td>\n",
              "      <td>0</td>\n",
              "      <td>1</td>\n",
              "    </tr>\n",
              "    <tr>\n",
              "      <th>3</th>\n",
              "      <td>5</td>\n",
              "      <td>marcu brown</td>\n",
              "      <td>marcu</td>\n",
              "      <td>brown</td>\n",
              "      <td>2013-01-13</td>\n",
              "      <td>male</td>\n",
              "      <td>1993-01-21</td>\n",
              "      <td>23</td>\n",
              "      <td>less than 25</td>\n",
              "      <td>african-american</td>\n",
              "      <td>0</td>\n",
              "      <td>8</td>\n",
              "      <td>1</td>\n",
              "      <td>0</td>\n",
              "      <td>1</td>\n",
              "      <td>NaN</td>\n",
              "      <td>NaT</td>\n",
              "      <td>NaT</td>\n",
              "      <td>13000570cf10a</td>\n",
              "      <td>2013-01-12</td>\n",
              "      <td>NaT</td>\n",
              "      <td>1.0</td>\n",
              "      <td>f</td>\n",
              "      <td>possession of cannabis</td>\n",
              "      <td>0</td>\n",
              "      <td>NaN</td>\n",
              "      <td>NaN</td>\n",
              "      <td>NaN</td>\n",
              "      <td>NaT</td>\n",
              "      <td>NaN</td>\n",
              "      <td>NaN</td>\n",
              "      <td>NaN</td>\n",
              "      <td>NaN</td>\n",
              "      <td>0</td>\n",
              "      <td>NaN</td>\n",
              "      <td>NaN</td>\n",
              "      <td>NaT</td>\n",
              "      <td>NaN</td>\n",
              "      <td>risk of recidivism</td>\n",
              "      <td>8</td>\n",
              "      <td>high</td>\n",
              "      <td>2013-01-13</td>\n",
              "      <td>risk of violence</td>\n",
              "      <td>6</td>\n",
              "      <td>medium</td>\n",
              "      <td>2013-01-13</td>\n",
              "      <td>NaT</td>\n",
              "      <td>NaT</td>\n",
              "      <td>1</td>\n",
              "      <td>0</td>\n",
              "      <td>1174</td>\n",
              "      <td>0</td>\n",
              "      <td>0</td>\n",
              "    </tr>\n",
              "    <tr>\n",
              "      <th>4</th>\n",
              "      <td>6</td>\n",
              "      <td>bouthy pierrelouis</td>\n",
              "      <td>bouthy</td>\n",
              "      <td>pierrelouis</td>\n",
              "      <td>2013-03-26</td>\n",
              "      <td>male</td>\n",
              "      <td>1973-01-22</td>\n",
              "      <td>43</td>\n",
              "      <td>25 - 45</td>\n",
              "      <td>other</td>\n",
              "      <td>0</td>\n",
              "      <td>1</td>\n",
              "      <td>0</td>\n",
              "      <td>0</td>\n",
              "      <td>2</td>\n",
              "      <td>NaN</td>\n",
              "      <td>NaT</td>\n",
              "      <td>NaT</td>\n",
              "      <td>12014130cf10a</td>\n",
              "      <td>NaT</td>\n",
              "      <td>2013-01-09</td>\n",
              "      <td>76.0</td>\n",
              "      <td>f</td>\n",
              "      <td>arrest case no charge</td>\n",
              "      <td>0</td>\n",
              "      <td>NaN</td>\n",
              "      <td>NaN</td>\n",
              "      <td>NaN</td>\n",
              "      <td>NaT</td>\n",
              "      <td>NaN</td>\n",
              "      <td>NaN</td>\n",
              "      <td>NaN</td>\n",
              "      <td>NaN</td>\n",
              "      <td>0</td>\n",
              "      <td>NaN</td>\n",
              "      <td>NaN</td>\n",
              "      <td>NaT</td>\n",
              "      <td>NaN</td>\n",
              "      <td>risk of recidivism</td>\n",
              "      <td>1</td>\n",
              "      <td>low</td>\n",
              "      <td>2013-03-26</td>\n",
              "      <td>risk of violence</td>\n",
              "      <td>1</td>\n",
              "      <td>low</td>\n",
              "      <td>2013-03-26</td>\n",
              "      <td>NaT</td>\n",
              "      <td>NaT</td>\n",
              "      <td>2</td>\n",
              "      <td>0</td>\n",
              "      <td>1102</td>\n",
              "      <td>0</td>\n",
              "      <td>0</td>\n",
              "    </tr>\n",
              "  </tbody>\n",
              "</table>\n",
              "</div>"
            ],
            "text/plain": [
              "   id                name   first  ...   end event two_year_recid\n",
              "0   1    miguel hernandez  miguel  ...   327     0              0\n",
              "1   3         kevon dixon   kevon  ...   159     1              1\n",
              "2   4            ed philo      ed  ...    63     0              1\n",
              "3   5         marcu brown   marcu  ...  1174     0              0\n",
              "4   6  bouthy pierrelouis  bouthy  ...  1102     0              0\n",
              "\n",
              "[5 rows x 53 columns]"
            ]
          },
          "metadata": {
            "tags": []
          }
        }
      ]
    },
    {
      "cell_type": "code",
      "metadata": {
        "id": "ujFOAEvvBE7O",
        "colab_type": "code",
        "outputId": "dd83cc4f-8428-4075-90c9-45df35d21826",
        "colab": {
          "base_uri": "https://localhost:8080/",
          "height": 153
        }
      },
      "source": [
        "df_all.groupby(\"race\")['id'].nunique() # check of demographics numbers"
      ],
      "execution_count": 171,
      "outputs": [
        {
          "output_type": "execute_result",
          "data": {
            "text/plain": [
              "race\n",
              "african-american    3696\n",
              "asian                 32\n",
              "caucasian           2454\n",
              "hispanic             637\n",
              "native american       18\n",
              "other                377\n",
              "Name: id, dtype: int64"
            ]
          },
          "metadata": {
            "tags": []
          },
          "execution_count": 171
        }
      ]
    },
    {
      "cell_type": "code",
      "metadata": {
        "id": "FbkGHIsjYHOY",
        "colab_type": "code",
        "colab": {
          "base_uri": "https://localhost:8080/",
          "height": 221
        },
        "outputId": "4ca046c9-8959-4340-c83c-32ac91a1fd83"
      },
      "source": [
        "'''Here we choose people on the record with their unique ID, race which factors into the evaluation, followed by info on whether or not\n",
        "they were a repeat offender, their decile score corresponding to low/high in terms of number, and if they had repeated within the two years'''\n",
        "df_test = df_all[[\"race\", \"age\", \"is_recid\", \"decile_score\", \"two_year_recid\"]].copy()\n",
        "\n",
        "df_all[\"race\"] # this column identifies the race of the individual in question\n",
        "\n",
        "df_all[\"age\"] # age of the offender\n",
        "\n",
        "df_all[\"is_recid\"] # this column helps us when we need to evaluate whether the person was a repeat offender\n",
        "\n",
        "df_all[\"decile_score\"] # shows us the score whether the offender scored low or high on the scale of Compas scores\n",
        "\n",
        "df_all[\"two_year_recid\"] # shows if offender reoffended within a couple years of previous charge\n"
      ],
      "execution_count": 182,
      "outputs": [
        {
          "output_type": "execute_result",
          "data": {
            "text/plain": [
              "0       0\n",
              "1       1\n",
              "2       1\n",
              "3       0\n",
              "4       0\n",
              "       ..\n",
              "7209    0\n",
              "7210    0\n",
              "7211    0\n",
              "7212    0\n",
              "7213    1\n",
              "Name: two_year_recid, Length: 7214, dtype: int64"
            ]
          },
          "metadata": {
            "tags": []
          },
          "execution_count": 182
        }
      ]
    },
    {
      "cell_type": "code",
      "metadata": {
        "id": "Rfq3s3pLcJqO",
        "colab_type": "code",
        "colab": {
          "base_uri": "https://localhost:8080/",
          "height": 297
        },
        "outputId": "87d0ce9b-d02a-450e-d347-7a49bd57b417"
      },
      "source": [
        "df_test.describe()"
      ],
      "execution_count": 178,
      "outputs": [
        {
          "output_type": "execute_result",
          "data": {
            "text/html": [
              "<div>\n",
              "<style scoped>\n",
              "    .dataframe tbody tr th:only-of-type {\n",
              "        vertical-align: middle;\n",
              "    }\n",
              "\n",
              "    .dataframe tbody tr th {\n",
              "        vertical-align: top;\n",
              "    }\n",
              "\n",
              "    .dataframe thead th {\n",
              "        text-align: right;\n",
              "    }\n",
              "</style>\n",
              "<table border=\"1\" class=\"dataframe\">\n",
              "  <thead>\n",
              "    <tr style=\"text-align: right;\">\n",
              "      <th></th>\n",
              "      <th>age</th>\n",
              "      <th>is_recid</th>\n",
              "      <th>decile_score</th>\n",
              "      <th>two_year_recid</th>\n",
              "    </tr>\n",
              "  </thead>\n",
              "  <tbody>\n",
              "    <tr>\n",
              "      <th>count</th>\n",
              "      <td>7214.000000</td>\n",
              "      <td>7214.000000</td>\n",
              "      <td>7214.000000</td>\n",
              "      <td>7214.000000</td>\n",
              "    </tr>\n",
              "    <tr>\n",
              "      <th>mean</th>\n",
              "      <td>34.817993</td>\n",
              "      <td>0.481148</td>\n",
              "      <td>4.509565</td>\n",
              "      <td>0.450652</td>\n",
              "    </tr>\n",
              "    <tr>\n",
              "      <th>std</th>\n",
              "      <td>11.888922</td>\n",
              "      <td>0.499679</td>\n",
              "      <td>2.856396</td>\n",
              "      <td>0.497593</td>\n",
              "    </tr>\n",
              "    <tr>\n",
              "      <th>min</th>\n",
              "      <td>18.000000</td>\n",
              "      <td>0.000000</td>\n",
              "      <td>1.000000</td>\n",
              "      <td>0.000000</td>\n",
              "    </tr>\n",
              "    <tr>\n",
              "      <th>25%</th>\n",
              "      <td>25.000000</td>\n",
              "      <td>0.000000</td>\n",
              "      <td>2.000000</td>\n",
              "      <td>0.000000</td>\n",
              "    </tr>\n",
              "    <tr>\n",
              "      <th>50%</th>\n",
              "      <td>31.000000</td>\n",
              "      <td>0.000000</td>\n",
              "      <td>4.000000</td>\n",
              "      <td>0.000000</td>\n",
              "    </tr>\n",
              "    <tr>\n",
              "      <th>75%</th>\n",
              "      <td>42.000000</td>\n",
              "      <td>1.000000</td>\n",
              "      <td>7.000000</td>\n",
              "      <td>1.000000</td>\n",
              "    </tr>\n",
              "    <tr>\n",
              "      <th>max</th>\n",
              "      <td>96.000000</td>\n",
              "      <td>1.000000</td>\n",
              "      <td>10.000000</td>\n",
              "      <td>1.000000</td>\n",
              "    </tr>\n",
              "  </tbody>\n",
              "</table>\n",
              "</div>"
            ],
            "text/plain": [
              "               age     is_recid  decile_score  two_year_recid\n",
              "count  7214.000000  7214.000000   7214.000000     7214.000000\n",
              "mean     34.817993     0.481148      4.509565        0.450652\n",
              "std      11.888922     0.499679      2.856396        0.497593\n",
              "min      18.000000     0.000000      1.000000        0.000000\n",
              "25%      25.000000     0.000000      2.000000        0.000000\n",
              "50%      31.000000     0.000000      4.000000        0.000000\n",
              "75%      42.000000     1.000000      7.000000        1.000000\n",
              "max      96.000000     1.000000     10.000000        1.000000"
            ]
          },
          "metadata": {
            "tags": []
          },
          "execution_count": 178
        }
      ]
    },
    {
      "cell_type": "code",
      "metadata": {
        "id": "2V-e7H4Zj8Lw",
        "colab_type": "code",
        "colab": {}
      },
      "source": [
        "high_recid_black = df_test.query('two_year_recid == 1 and race == \"African-American\" and decile_score >= 5').count()"
      ],
      "execution_count": 0,
      "outputs": []
    },
    {
      "cell_type": "code",
      "metadata": {
        "id": "k9TKulF4JUSQ",
        "colab_type": "code",
        "colab": {}
      },
      "source": [
        "total_recid_black = df_test.query('race == \"African-American\" and decile_score >= 5').count()"
      ],
      "execution_count": 0,
      "outputs": []
    },
    {
      "cell_type": "code",
      "metadata": {
        "id": "lDtdg1TZKGGM",
        "colab_type": "code",
        "colab": {
          "base_uri": "https://localhost:8080/",
          "height": 119
        },
        "outputId": "9e605b8a-ca95-4956-bac6-e686e8f1b4bb"
      },
      "source": [
        "# PPV rate confirmed ~0.63\n",
        "rate = high_recid_black / total_recid_black\n",
        "print(rate) "
      ],
      "execution_count": 14,
      "outputs": [
        {
          "output_type": "stream",
          "text": [
            "race              0.629715\n",
            "age               0.629715\n",
            "is_recid          0.629715\n",
            "decile_score      0.629715\n",
            "two_year_recid    0.629715\n",
            "dtype: float64\n"
          ],
          "name": "stdout"
        }
      ]
    },
    {
      "cell_type": "code",
      "metadata": {
        "id": "eqZs_rZMLb__",
        "colab_type": "code",
        "colab": {}
      },
      "source": [
        "high_recid_white = df_test.query('two_year_recid == 1 and race == \"Caucasian\" and decile_score >= 5').count()"
      ],
      "execution_count": 0,
      "outputs": []
    },
    {
      "cell_type": "code",
      "metadata": {
        "id": "U2DmHcHMLt7z",
        "colab_type": "code",
        "colab": {}
      },
      "source": [
        "total_recid_white =  df_test.query('race == \"Caucasian\" and decile_score >= 5').count()"
      ],
      "execution_count": 0,
      "outputs": []
    },
    {
      "cell_type": "code",
      "metadata": {
        "id": "ZfG5-BkpLzxB",
        "colab_type": "code",
        "colab": {
          "base_uri": "https://localhost:8080/",
          "height": 119
        },
        "outputId": "379c1aae-0270-48ae-882d-4dcc3f2275ae"
      },
      "source": [
        "# PPV rate confirmed ~0.59\n",
        "rate_white = high_recid_white / total_recid_white\n",
        "print(rate_white)"
      ],
      "execution_count": 66,
      "outputs": [
        {
          "output_type": "execute_result",
          "data": {
            "text/plain": [
              "id                0.591335\n",
              "race              0.591335\n",
              "is_recid          0.591335\n",
              "decile_score      0.591335\n",
              "two_year_recid    0.591335\n",
              "dtype: float64"
            ]
          },
          "metadata": {
            "tags": []
          },
          "execution_count": 66
        }
      ]
    },
    {
      "cell_type": "markdown",
      "metadata": {
        "id": "lKpqhNBYOvj6",
        "colab_type": "text"
      },
      "source": [
        "Claim 2 - false positive comparison\n",
        "\n"
      ]
    },
    {
      "cell_type": "code",
      "metadata": {
        "id": "UWkwvCYhOtkT",
        "colab_type": "code",
        "colab": {}
      },
      "source": [
        "high_surv_black = df_test.query('two_year_recid == 0 and race == \"African-American\" and decile_score >= 5').count()"
      ],
      "execution_count": 0,
      "outputs": []
    },
    {
      "cell_type": "code",
      "metadata": {
        "id": "04nix7oWPD6f",
        "colab_type": "code",
        "colab": {}
      },
      "source": [
        "total_surv_black = df_test.query('race == \"African-American\" and two_year_recid == 0').count()"
      ],
      "execution_count": 0,
      "outputs": []
    },
    {
      "cell_type": "code",
      "metadata": {
        "id": "waBZk-1nPUP1",
        "colab_type": "code",
        "colab": {
          "base_uri": "https://localhost:8080/",
          "height": 119
        },
        "outputId": "b015f7ee-8a15-4c5d-cd03-991fa01d9773"
      },
      "source": [
        "false_pos_black = high_surv_black/ total_surv_black\n",
        "print(false_pos_black)"
      ],
      "execution_count": 73,
      "outputs": [
        {
          "output_type": "execute_result",
          "data": {
            "text/plain": [
              "id                0.448468\n",
              "race              0.448468\n",
              "is_recid          0.448468\n",
              "decile_score      0.448468\n",
              "two_year_recid    0.448468\n",
              "dtype: float64"
            ]
          },
          "metadata": {
            "tags": []
          },
          "execution_count": 73
        }
      ]
    },
    {
      "cell_type": "code",
      "metadata": {
        "id": "TaUresEpPzax",
        "colab_type": "code",
        "colab": {}
      },
      "source": [
        "high_surv_white = df_test.query('two_year_recid == 0 and race == \"Caucasian\" and decile_score >= 5').count()"
      ],
      "execution_count": 0,
      "outputs": []
    },
    {
      "cell_type": "code",
      "metadata": {
        "id": "qpeRXMYtP0nk",
        "colab_type": "code",
        "colab": {}
      },
      "source": [
        "total_surv_white = df_test.query('race == \"Caucasian\" and two_year_recid == 0').count()"
      ],
      "execution_count": 0,
      "outputs": []
    },
    {
      "cell_type": "code",
      "metadata": {
        "id": "ZPWAEUODP0_d",
        "colab_type": "code",
        "colab": {
          "base_uri": "https://localhost:8080/",
          "height": 119
        },
        "outputId": "79c282a2-1995-4464-c237-84deec9b3516"
      },
      "source": [
        "false_pos_white = high_surv_white/ total_surv_white\n",
        "print(false_pos_white)"
      ],
      "execution_count": 76,
      "outputs": [
        {
          "output_type": "execute_result",
          "data": {
            "text/plain": [
              "id                0.234543\n",
              "race              0.234543\n",
              "is_recid          0.234543\n",
              "decile_score      0.234543\n",
              "two_year_recid    0.234543\n",
              "dtype: float64"
            ]
          },
          "metadata": {
            "tags": []
          },
          "execution_count": 76
        }
      ]
    },
    {
      "cell_type": "code",
      "metadata": {
        "id": "f3LmxUQQ1PmJ",
        "colab_type": "code",
        "colab": {
          "base_uri": "https://localhost:8080/",
          "height": 51
        },
        "outputId": "7a71039f-30af-4461-f81c-3dc8790329e8"
      },
      "source": [
        "all_white_recid = df_test.query('race == \"caucasian\" and is_recid==1').count()\n",
        "recid_white = df_test.query('race == \"caucasian\" and is_recid == 1 and decile_score <= 4').count()\n",
        "\n",
        "false_neg_white = recid_white / all_white_recid\n",
        "print(\"FNR for white: \", false_neg_white[0])\n",
        "\n",
        "all_black_recid = df_test.query('race == \"african-american\" and is_recid == 1').count()\n",
        "recid_black = df_test.query('race == \"african-american\" and is_recid == 1 and decile_score <= 4').count()\n",
        "\n",
        "false_neg_black = recid_black / all_black_recid\n",
        "print(\"FNR for black: \", false_neg_black[0])\n"
      ],
      "execution_count": 199,
      "outputs": [
        {
          "output_type": "stream",
          "text": [
            "FNR for white:  0.4897560975609756\n",
            "FNR for black:  0.29027504911591356\n"
          ],
          "name": "stdout"
        }
      ]
    },
    {
      "cell_type": "markdown",
      "metadata": {
        "id": "2yD0vXjWSGn6",
        "colab_type": "text"
      },
      "source": [
        "# Part 2"
      ]
    },
    {
      "cell_type": "code",
      "metadata": {
        "id": "Qu1qtPzHRQPh",
        "colab_type": "code",
        "colab": {}
      },
      "source": [
        "# Rerun top 2 cells and then continue here"
      ],
      "execution_count": 0,
      "outputs": []
    },
    {
      "cell_type": "code",
      "metadata": {
        "id": "7eVNisOXbD24",
        "colab_type": "code",
        "colab": {}
      },
      "source": [
        "'''\n",
        "RUN THIS CELL AS-IS\n",
        "'''\n",
        "\n",
        "# df = a dataframe,\n",
        "# cols = a list of columns to convert\n",
        "# d_format = the date format to use\n",
        "def convert_col_to_date(df, cols, d_format):\n",
        "  for col in cols:\n",
        "    \n",
        "    if df[col].dtype == np.object:\n",
        "      # Drop any time info\n",
        "      df[col] = df[col].str.replace(r'\\s[\\w*:]*','')\n",
        "      df[col] = df.apply(lambda defendant:make_date(defendant, col, d_format), \n",
        "                         axis=1);\n",
        "      \n",
        "def make_date(defendant, col, d_format):\n",
        "  try:\n",
        "    return datetime.strptime(defendant[col], d_format)\n",
        "  except:\n",
        "    return None\n",
        "    \n",
        "\n",
        "# df = a dataframe,\n",
        "# cols = a list of columns to convert\n",
        "def convert_col_to_number(df, cols):\n",
        "  for col in cols:\n",
        "    if df[col].dtype == np.object:\n",
        "      df[col] = pd.to_numeric(df[col])\n",
        "      \n",
        "# df = a dataframe\n",
        "def convert_col_to_lower(df):\n",
        "  cols = list(df)\n",
        "  for col in cols:\n",
        "    if df[col].dtype == np.object:\n",
        "      df[col] = df[col].str.lower()\n",
        "\n",
        "'''\n",
        "CONVERT DATE COLUMNS\n",
        "'''\n",
        "raw_date_cols = ['DateOfBirth', 'Screening_Date']\n",
        "two_year_date_cols = ['compas_screening_date', 'dob', 'c_jail_in', 'c_jail_out',\n",
        "                'c_offense_date', 'c_arrest_date', 'r_offense_date', \n",
        "                'vr_offense_date', 'screening_date', 'v_screening_date',\n",
        "                'in_custody', 'out_custody']\n",
        "convert_col_to_date(df_raw, raw_date_cols, RAW_DATE)\n",
        "convert_col_to_date(df_all, two_year_date_cols, TWO_YEARS_DATE)\n",
        "\n",
        "# Important! - With two digit years, Python auto converts some years to the 21st\n",
        "# century and others to the 20th. All dates of birth should be 20th century!\n",
        "def make_20th_c(row, col):\n",
        "  if row[col].to_pydatetime().date().year >= 2000:\n",
        "      return row[col].to_pydatetime().date() - relativedelta(years=100)\n",
        "  else:\n",
        "    return row[col]\n",
        "df_raw[\"DateOfBirth\"] = df_raw.apply(lambda defendant:make_20th_c(defendant, \"DateOfBirth\"), axis=1)\n",
        "\n",
        "'''\n",
        "CONVERT NUMBER COLUMNS\n",
        "'''\n",
        "raw_number_cols = ['ScaleSet_ID', 'RecSupervisionLevel', 'Scale_ID', 'RawScore',\n",
        "                  'DecileScore', 'IsCompleted', 'IsDeleted']\n",
        "two_year_number_cols = ['age', 'juv_fel_count', 'decile_score', 'juv_misd_count',\n",
        "                        'juv_other_count', 'priors_count', \n",
        "                        'days_b_screening_arrest', 'c_days_from_compas',\n",
        "                       'is_recid', 'r_days_from_arrest', 'is_violent_recid', \n",
        "                       'decile_score', 'v_decile_score', 'priors_count', 'start', \n",
        "                        'end', 'event','two_year_recid']\n",
        "convert_col_to_number(df_raw, raw_number_cols)\n",
        "convert_col_to_number(df_all, two_year_number_cols)\n",
        "\n",
        "'''\n",
        "CONVERT ALL STRING COLUMNS TO LOWERCASE\n",
        "'''\n",
        "convert_col_to_lower(df_raw)\n",
        "convert_col_to_lower(df_all)"
      ],
      "execution_count": 0,
      "outputs": []
    },
    {
      "cell_type": "code",
      "metadata": {
        "id": "bzYE5xcETGpL",
        "colab_type": "code",
        "colab": {
          "base_uri": "https://localhost:8080/",
          "height": 309
        },
        "outputId": "67329fa4-2716-4367-9c3a-c268787077d8"
      },
      "source": [
        "df_all.head()"
      ],
      "execution_count": 160,
      "outputs": [
        {
          "output_type": "execute_result",
          "data": {
            "text/html": [
              "<div>\n",
              "<style scoped>\n",
              "    .dataframe tbody tr th:only-of-type {\n",
              "        vertical-align: middle;\n",
              "    }\n",
              "\n",
              "    .dataframe tbody tr th {\n",
              "        vertical-align: top;\n",
              "    }\n",
              "\n",
              "    .dataframe thead th {\n",
              "        text-align: right;\n",
              "    }\n",
              "</style>\n",
              "<table border=\"1\" class=\"dataframe\">\n",
              "  <thead>\n",
              "    <tr style=\"text-align: right;\">\n",
              "      <th></th>\n",
              "      <th>id</th>\n",
              "      <th>name</th>\n",
              "      <th>first</th>\n",
              "      <th>last</th>\n",
              "      <th>compas_screening_date</th>\n",
              "      <th>sex</th>\n",
              "      <th>dob</th>\n",
              "      <th>age</th>\n",
              "      <th>age_cat</th>\n",
              "      <th>race</th>\n",
              "      <th>juv_fel_count</th>\n",
              "      <th>decile_score</th>\n",
              "      <th>juv_misd_count</th>\n",
              "      <th>juv_other_count</th>\n",
              "      <th>priors_count</th>\n",
              "      <th>days_b_screening_arrest</th>\n",
              "      <th>c_jail_in</th>\n",
              "      <th>c_jail_out</th>\n",
              "      <th>c_case_number</th>\n",
              "      <th>c_offense_date</th>\n",
              "      <th>c_arrest_date</th>\n",
              "      <th>c_days_from_compas</th>\n",
              "      <th>c_charge_degree</th>\n",
              "      <th>c_charge_desc</th>\n",
              "      <th>is_recid</th>\n",
              "      <th>r_case_number</th>\n",
              "      <th>r_charge_degree</th>\n",
              "      <th>r_days_from_arrest</th>\n",
              "      <th>r_offense_date</th>\n",
              "      <th>r_charge_desc</th>\n",
              "      <th>r_jail_in</th>\n",
              "      <th>r_jail_out</th>\n",
              "      <th>violent_recid</th>\n",
              "      <th>is_violent_recid</th>\n",
              "      <th>vr_case_number</th>\n",
              "      <th>vr_charge_degree</th>\n",
              "      <th>vr_offense_date</th>\n",
              "      <th>vr_charge_desc</th>\n",
              "      <th>type_of_assessment</th>\n",
              "      <th>decile_score.1</th>\n",
              "      <th>score_text</th>\n",
              "      <th>screening_date</th>\n",
              "      <th>v_type_of_assessment</th>\n",
              "      <th>v_decile_score</th>\n",
              "      <th>v_score_text</th>\n",
              "      <th>v_screening_date</th>\n",
              "      <th>in_custody</th>\n",
              "      <th>out_custody</th>\n",
              "      <th>priors_count.1</th>\n",
              "      <th>start</th>\n",
              "      <th>end</th>\n",
              "      <th>event</th>\n",
              "      <th>two_year_recid</th>\n",
              "    </tr>\n",
              "  </thead>\n",
              "  <tbody>\n",
              "    <tr>\n",
              "      <th>0</th>\n",
              "      <td>1</td>\n",
              "      <td>miguel hernandez</td>\n",
              "      <td>miguel</td>\n",
              "      <td>hernandez</td>\n",
              "      <td>2013-08-14</td>\n",
              "      <td>male</td>\n",
              "      <td>1947-04-18</td>\n",
              "      <td>69</td>\n",
              "      <td>greater than 45</td>\n",
              "      <td>other</td>\n",
              "      <td>0</td>\n",
              "      <td>1</td>\n",
              "      <td>0</td>\n",
              "      <td>0</td>\n",
              "      <td>0</td>\n",
              "      <td>-1.0</td>\n",
              "      <td>2013-08-13</td>\n",
              "      <td>2013-08-14</td>\n",
              "      <td>13011352cf10a</td>\n",
              "      <td>2013-08-13</td>\n",
              "      <td>NaT</td>\n",
              "      <td>1.0</td>\n",
              "      <td>f</td>\n",
              "      <td>aggravated assault w/firearm</td>\n",
              "      <td>0</td>\n",
              "      <td>NaN</td>\n",
              "      <td>NaN</td>\n",
              "      <td>NaN</td>\n",
              "      <td>NaT</td>\n",
              "      <td>NaN</td>\n",
              "      <td>NaN</td>\n",
              "      <td>NaN</td>\n",
              "      <td>NaN</td>\n",
              "      <td>0</td>\n",
              "      <td>NaN</td>\n",
              "      <td>NaN</td>\n",
              "      <td>NaT</td>\n",
              "      <td>NaN</td>\n",
              "      <td>risk of recidivism</td>\n",
              "      <td>1</td>\n",
              "      <td>low</td>\n",
              "      <td>2013-08-14</td>\n",
              "      <td>risk of violence</td>\n",
              "      <td>1</td>\n",
              "      <td>low</td>\n",
              "      <td>2013-08-14</td>\n",
              "      <td>2014-07-07</td>\n",
              "      <td>2014-07-14</td>\n",
              "      <td>0</td>\n",
              "      <td>0</td>\n",
              "      <td>327</td>\n",
              "      <td>0</td>\n",
              "      <td>0</td>\n",
              "    </tr>\n",
              "    <tr>\n",
              "      <th>1</th>\n",
              "      <td>3</td>\n",
              "      <td>kevon dixon</td>\n",
              "      <td>kevon</td>\n",
              "      <td>dixon</td>\n",
              "      <td>2013-01-27</td>\n",
              "      <td>male</td>\n",
              "      <td>1982-01-22</td>\n",
              "      <td>34</td>\n",
              "      <td>25 - 45</td>\n",
              "      <td>african-american</td>\n",
              "      <td>0</td>\n",
              "      <td>3</td>\n",
              "      <td>0</td>\n",
              "      <td>0</td>\n",
              "      <td>0</td>\n",
              "      <td>-1.0</td>\n",
              "      <td>2013-01-26</td>\n",
              "      <td>2013-02-05</td>\n",
              "      <td>13001275cf10a</td>\n",
              "      <td>2013-01-26</td>\n",
              "      <td>NaT</td>\n",
              "      <td>1.0</td>\n",
              "      <td>f</td>\n",
              "      <td>felony battery w/prior convict</td>\n",
              "      <td>1</td>\n",
              "      <td>13009779cf10a</td>\n",
              "      <td>(f3)</td>\n",
              "      <td>NaN</td>\n",
              "      <td>2013-07-05</td>\n",
              "      <td>felony battery (dom strang)</td>\n",
              "      <td>NaN</td>\n",
              "      <td>NaN</td>\n",
              "      <td>NaN</td>\n",
              "      <td>1</td>\n",
              "      <td>13009779cf10a</td>\n",
              "      <td>(f3)</td>\n",
              "      <td>2013-07-05</td>\n",
              "      <td>felony battery (dom strang)</td>\n",
              "      <td>risk of recidivism</td>\n",
              "      <td>3</td>\n",
              "      <td>low</td>\n",
              "      <td>2013-01-27</td>\n",
              "      <td>risk of violence</td>\n",
              "      <td>1</td>\n",
              "      <td>low</td>\n",
              "      <td>2013-01-27</td>\n",
              "      <td>2013-01-26</td>\n",
              "      <td>2013-02-05</td>\n",
              "      <td>0</td>\n",
              "      <td>9</td>\n",
              "      <td>159</td>\n",
              "      <td>1</td>\n",
              "      <td>1</td>\n",
              "    </tr>\n",
              "    <tr>\n",
              "      <th>2</th>\n",
              "      <td>4</td>\n",
              "      <td>ed philo</td>\n",
              "      <td>ed</td>\n",
              "      <td>philo</td>\n",
              "      <td>2013-04-14</td>\n",
              "      <td>male</td>\n",
              "      <td>1991-05-14</td>\n",
              "      <td>24</td>\n",
              "      <td>less than 25</td>\n",
              "      <td>african-american</td>\n",
              "      <td>0</td>\n",
              "      <td>4</td>\n",
              "      <td>0</td>\n",
              "      <td>1</td>\n",
              "      <td>4</td>\n",
              "      <td>-1.0</td>\n",
              "      <td>2013-04-13</td>\n",
              "      <td>2013-04-14</td>\n",
              "      <td>13005330cf10a</td>\n",
              "      <td>2013-04-13</td>\n",
              "      <td>NaT</td>\n",
              "      <td>1.0</td>\n",
              "      <td>f</td>\n",
              "      <td>possession of cocaine</td>\n",
              "      <td>1</td>\n",
              "      <td>13011511mm10a</td>\n",
              "      <td>(m1)</td>\n",
              "      <td>0.0</td>\n",
              "      <td>2013-06-16</td>\n",
              "      <td>driving under the influence</td>\n",
              "      <td>2013-06-16</td>\n",
              "      <td>2013-06-16</td>\n",
              "      <td>NaN</td>\n",
              "      <td>0</td>\n",
              "      <td>NaN</td>\n",
              "      <td>NaN</td>\n",
              "      <td>NaT</td>\n",
              "      <td>NaN</td>\n",
              "      <td>risk of recidivism</td>\n",
              "      <td>4</td>\n",
              "      <td>low</td>\n",
              "      <td>2013-04-14</td>\n",
              "      <td>risk of violence</td>\n",
              "      <td>3</td>\n",
              "      <td>low</td>\n",
              "      <td>2013-04-14</td>\n",
              "      <td>2013-06-16</td>\n",
              "      <td>2013-06-16</td>\n",
              "      <td>4</td>\n",
              "      <td>0</td>\n",
              "      <td>63</td>\n",
              "      <td>0</td>\n",
              "      <td>1</td>\n",
              "    </tr>\n",
              "    <tr>\n",
              "      <th>3</th>\n",
              "      <td>5</td>\n",
              "      <td>marcu brown</td>\n",
              "      <td>marcu</td>\n",
              "      <td>brown</td>\n",
              "      <td>2013-01-13</td>\n",
              "      <td>male</td>\n",
              "      <td>1993-01-21</td>\n",
              "      <td>23</td>\n",
              "      <td>less than 25</td>\n",
              "      <td>african-american</td>\n",
              "      <td>0</td>\n",
              "      <td>8</td>\n",
              "      <td>1</td>\n",
              "      <td>0</td>\n",
              "      <td>1</td>\n",
              "      <td>NaN</td>\n",
              "      <td>NaT</td>\n",
              "      <td>NaT</td>\n",
              "      <td>13000570cf10a</td>\n",
              "      <td>2013-01-12</td>\n",
              "      <td>NaT</td>\n",
              "      <td>1.0</td>\n",
              "      <td>f</td>\n",
              "      <td>possession of cannabis</td>\n",
              "      <td>0</td>\n",
              "      <td>NaN</td>\n",
              "      <td>NaN</td>\n",
              "      <td>NaN</td>\n",
              "      <td>NaT</td>\n",
              "      <td>NaN</td>\n",
              "      <td>NaN</td>\n",
              "      <td>NaN</td>\n",
              "      <td>NaN</td>\n",
              "      <td>0</td>\n",
              "      <td>NaN</td>\n",
              "      <td>NaN</td>\n",
              "      <td>NaT</td>\n",
              "      <td>NaN</td>\n",
              "      <td>risk of recidivism</td>\n",
              "      <td>8</td>\n",
              "      <td>high</td>\n",
              "      <td>2013-01-13</td>\n",
              "      <td>risk of violence</td>\n",
              "      <td>6</td>\n",
              "      <td>medium</td>\n",
              "      <td>2013-01-13</td>\n",
              "      <td>NaT</td>\n",
              "      <td>NaT</td>\n",
              "      <td>1</td>\n",
              "      <td>0</td>\n",
              "      <td>1174</td>\n",
              "      <td>0</td>\n",
              "      <td>0</td>\n",
              "    </tr>\n",
              "    <tr>\n",
              "      <th>4</th>\n",
              "      <td>6</td>\n",
              "      <td>bouthy pierrelouis</td>\n",
              "      <td>bouthy</td>\n",
              "      <td>pierrelouis</td>\n",
              "      <td>2013-03-26</td>\n",
              "      <td>male</td>\n",
              "      <td>1973-01-22</td>\n",
              "      <td>43</td>\n",
              "      <td>25 - 45</td>\n",
              "      <td>other</td>\n",
              "      <td>0</td>\n",
              "      <td>1</td>\n",
              "      <td>0</td>\n",
              "      <td>0</td>\n",
              "      <td>2</td>\n",
              "      <td>NaN</td>\n",
              "      <td>NaT</td>\n",
              "      <td>NaT</td>\n",
              "      <td>12014130cf10a</td>\n",
              "      <td>NaT</td>\n",
              "      <td>2013-01-09</td>\n",
              "      <td>76.0</td>\n",
              "      <td>f</td>\n",
              "      <td>arrest case no charge</td>\n",
              "      <td>0</td>\n",
              "      <td>NaN</td>\n",
              "      <td>NaN</td>\n",
              "      <td>NaN</td>\n",
              "      <td>NaT</td>\n",
              "      <td>NaN</td>\n",
              "      <td>NaN</td>\n",
              "      <td>NaN</td>\n",
              "      <td>NaN</td>\n",
              "      <td>0</td>\n",
              "      <td>NaN</td>\n",
              "      <td>NaN</td>\n",
              "      <td>NaT</td>\n",
              "      <td>NaN</td>\n",
              "      <td>risk of recidivism</td>\n",
              "      <td>1</td>\n",
              "      <td>low</td>\n",
              "      <td>2013-03-26</td>\n",
              "      <td>risk of violence</td>\n",
              "      <td>1</td>\n",
              "      <td>low</td>\n",
              "      <td>2013-03-26</td>\n",
              "      <td>NaT</td>\n",
              "      <td>NaT</td>\n",
              "      <td>2</td>\n",
              "      <td>0</td>\n",
              "      <td>1102</td>\n",
              "      <td>0</td>\n",
              "      <td>0</td>\n",
              "    </tr>\n",
              "  </tbody>\n",
              "</table>\n",
              "</div>"
            ],
            "text/plain": [
              "   id                name   first  ...   end event two_year_recid\n",
              "0   1    miguel hernandez  miguel  ...   327     0              0\n",
              "1   3         kevon dixon   kevon  ...   159     1              1\n",
              "2   4            ed philo      ed  ...    63     0              1\n",
              "3   5         marcu brown   marcu  ...  1174     0              0\n",
              "4   6  bouthy pierrelouis  bouthy  ...  1102     0              0\n",
              "\n",
              "[5 rows x 53 columns]"
            ]
          },
          "metadata": {
            "tags": []
          },
          "execution_count": 160
        }
      ]
    },
    {
      "cell_type": "code",
      "metadata": {
        "id": "iSAkHXn5TIHb",
        "colab_type": "code",
        "colab": {
          "base_uri": "https://localhost:8080/",
          "height": 54
        },
        "outputId": "0c1a351f-4148-4df8-d3fe-e791731ec637"
      },
      "source": [
        "df_basic = df_all[[\"race\", \"sex\", \"age\", \"priors_count\", \"is_recid\"]].copy()\n",
        "'''We start by trying to focus on key features including race, sex, age, prior crime count, and a check on recidivism\n",
        "The focus for the other models will be to equalize sample sizes and to remove race from the equation to see what's possible'''"
      ],
      "execution_count": 162,
      "outputs": [
        {
          "output_type": "execute_result",
          "data": {
            "text/plain": [
              "\"We start by trying to focus on key features including race, sex, age, prior crime count, and a check on recidivism\\nThe focus for the other models will be to equalize sample sizes and to remove race from the equation to see what's possible\""
            ]
          },
          "metadata": {
            "tags": []
          },
          "execution_count": 162
        }
      ]
    },
    {
      "cell_type": "markdown",
      "metadata": {
        "id": "EWzn0yHWxhUB",
        "colab_type": "text"
      },
      "source": [
        "Preprocessing Data for running through model by subgroup"
      ]
    },
    {
      "cell_type": "code",
      "metadata": {
        "id": "1b_Y2D-rUNb3",
        "colab_type": "code",
        "colab": {}
      },
      "source": [
        "def convert_race(row):\n",
        "  if row[\"race\"] == \"african-american\":\n",
        "    return 0\n",
        "  elif row[\"race\"] == \"caucasian\":\n",
        "    return 1\n",
        "  else:\n",
        "    return 2\n",
        "\n",
        "def convert_sex(row):\n",
        "  if row[\"sex\"] == \"male\":\n",
        "    return 0\n",
        "  elif row[\"sex\"] == \"female\":\n",
        "    return 1\n",
        "  else:\n",
        "    return 2\n",
        "  \n",
        "def normalize_age(row, max_age):\n",
        "  return row[\"age\"] / max_age\n",
        "\n",
        "\n",
        "# The preferred way to normalize categorical data:\n",
        "df_basic = pd.get_dummies(df_basic,columns=[\"race\",\"sex\"], prefix=[\"race\",\"sex\"])\n",
        "\n",
        "df_basic[\"age\"] = df_basic.apply(lambda defendant: normalize_age(defendant, df_basic[\"age\"].max()), axis=1)\n",
        "\n",
        "# Further preprocessing to scale priors count\n",
        "from sklearn.preprocessing import MinMaxScaler\n",
        "\n",
        "scaler = MinMaxScaler()\n",
        "x = df_basic['priors_count'].values\n",
        "df_basic['priors_count'] = scaler.fit_transform(x.reshape(-1,1))"
      ],
      "execution_count": 0,
      "outputs": []
    },
    {
      "cell_type": "code",
      "metadata": {
        "id": "8R4UHf8QUgA2",
        "colab_type": "code",
        "colab": {}
      },
      "source": [
        "# Split into train, validation, test\n",
        "\n",
        "# Total amount of data\n",
        "data_count = len(df_basic.index)\n",
        "\n",
        "# Split into train - test (80-20)\n",
        "train_total = math.floor(data_count * 0.8)\n",
        "test_count = data_count - train_total\n",
        "\n",
        "# Split the training set into train and validation (80-20)\n",
        "train_count = math.floor(train_total * 0.8)\n",
        "validation_count = train_total - train_count\n",
        "\n",
        "# Create the sets - assignment should really be randomized!\n",
        "df_train = df_basic[:train_count]\n",
        "df_validation = df_basic[train_count:train_count+validation_count]\n",
        "df_test = df_basic[train_count+validation_count:]"
      ],
      "execution_count": 0,
      "outputs": []
    },
    {
      "cell_type": "code",
      "metadata": {
        "id": "jZLS0YqSUhHq",
        "colab_type": "code",
        "colab": {}
      },
      "source": [
        "# Separate the labels (is_recid) from the input data\n",
        "\n",
        "# x_ represents feature vectors, y_ represents the associated class labels\n",
        "\n",
        "features = df_train.columns.tolist()\n",
        "features.remove(\"is_recid\")\n",
        "\n",
        "x_train = df_train[features].copy()\n",
        "y_train = df_train[\"is_recid\"].copy()\n",
        "\n",
        "x_validation = df_validation[features].copy()\n",
        "y_validation = df_validation[\"is_recid\"].copy()\n",
        "\n",
        "x_test = df_test[features].copy()\n",
        "y_test = df_test[\"is_recid\"].copy()"
      ],
      "execution_count": 0,
      "outputs": []
    },
    {
      "cell_type": "code",
      "metadata": {
        "id": "hzpyJX9hUlNP",
        "colab_type": "code",
        "colab": {}
      },
      "source": [
        "# Building a classifier to predict recidivism using only race, gender, and age\n",
        "NUM_FEATURES = len(features)\n",
        "NUM_NODES = 32\n",
        "OUTPUT = 1\n",
        "\n",
        "# Initialising the classifier\n",
        "classifier = keras.Sequential()\n",
        "\n",
        "# Adding the input layer and the first hidden layer\n",
        "# input_dim is the number of features you will input into the classifier\n",
        "classifier.add(keras.layers.Dense(units=NUM_NODES, kernel_initializer='uniform', \n",
        "                                  activation='relu', input_dim=NUM_FEATURES))\n",
        "\n",
        "# Adding a second hidden layer\n",
        "classifier.add(keras.layers.Dense(units=NUM_NODES, kernel_initializer='uniform', \n",
        "                                  activation='relu'))\n",
        "\n",
        "# Adding a second hidden layer\n",
        "classifier.add(keras.layers.Dense(units=NUM_NODES, kernel_initializer='uniform', \n",
        "                                  activation='relu'))\n",
        "\n",
        "\n",
        "# Add the output layer\n",
        "classifier.add(keras.layers.Dense(units=OUTPUT, activation=tf.nn.sigmoid))\n",
        "\n",
        "# Compile the model\n",
        "classifier.compile(optimizer=tf.train.AdamOptimizer(), loss='binary_crossentropy',\n",
        "              metrics=['accuracy'])"
      ],
      "execution_count": 0,
      "outputs": []
    },
    {
      "cell_type": "code",
      "metadata": {
        "id": "3fr3fvTyVL-h",
        "colab_type": "code",
        "colab": {
          "base_uri": "https://localhost:8080/",
          "height": 1000
        },
        "outputId": "f2919b05-0793-4264-d833-39867f02136e"
      },
      "source": [
        "# Train the model\n",
        "# So far, we've been working with DataFrames (pandas)\n",
        "# Sequential.fit needs the data in array format. To convert, use df.values e.g.\n",
        "# x_train.values\n",
        "\n",
        "history = classifier.fit(x_train.values,\n",
        "                    y_train.values,\n",
        "                    epochs=60,\n",
        "                    batch_size=512,\n",
        "                    validation_data=(x_validation.values, y_validation.values),\n",
        "                    verbose=1)"
      ],
      "execution_count": 167,
      "outputs": [
        {
          "output_type": "stream",
          "text": [
            "Train on 4616 samples, validate on 1155 samples\n",
            "Epoch 1/60\n",
            "4616/4616 [==============================] - 0s 58us/sample - loss: 0.6927 - acc: 0.5212 - val_loss: 0.6929 - val_acc: 0.5039\n",
            "Epoch 2/60\n",
            "4616/4616 [==============================] - 0s 8us/sample - loss: 0.6915 - acc: 0.5249 - val_loss: 0.6923 - val_acc: 0.5039\n",
            "Epoch 3/60\n",
            "4616/4616 [==============================] - 0s 9us/sample - loss: 0.6900 - acc: 0.5249 - val_loss: 0.6908 - val_acc: 0.5039\n",
            "Epoch 4/60\n",
            "4616/4616 [==============================] - 0s 9us/sample - loss: 0.6875 - acc: 0.5249 - val_loss: 0.6891 - val_acc: 0.5039\n",
            "Epoch 5/60\n",
            "4616/4616 [==============================] - 0s 10us/sample - loss: 0.6847 - acc: 0.5249 - val_loss: 0.6860 - val_acc: 0.5039\n",
            "Epoch 6/60\n",
            "4616/4616 [==============================] - 0s 10us/sample - loss: 0.6805 - acc: 0.5375 - val_loss: 0.6820 - val_acc: 0.5680\n",
            "Epoch 7/60\n",
            "4616/4616 [==============================] - 0s 8us/sample - loss: 0.6757 - acc: 0.6070 - val_loss: 0.6789 - val_acc: 0.6165\n",
            "Epoch 8/60\n",
            "4616/4616 [==============================] - 0s 9us/sample - loss: 0.6721 - acc: 0.6317 - val_loss: 0.6751 - val_acc: 0.6225\n",
            "Epoch 9/60\n",
            "4616/4616 [==============================] - 0s 9us/sample - loss: 0.6685 - acc: 0.6304 - val_loss: 0.6713 - val_acc: 0.6104\n",
            "Epoch 10/60\n",
            "4616/4616 [==============================] - 0s 8us/sample - loss: 0.6645 - acc: 0.6233 - val_loss: 0.6656 - val_acc: 0.6139\n",
            "Epoch 11/60\n",
            "4616/4616 [==============================] - 0s 8us/sample - loss: 0.6595 - acc: 0.6311 - val_loss: 0.6605 - val_acc: 0.6338\n",
            "Epoch 12/60\n",
            "4616/4616 [==============================] - 0s 9us/sample - loss: 0.6556 - acc: 0.6423 - val_loss: 0.6544 - val_acc: 0.6268\n",
            "Epoch 13/60\n",
            "4616/4616 [==============================] - 0s 9us/sample - loss: 0.6491 - acc: 0.6358 - val_loss: 0.6485 - val_acc: 0.6338\n",
            "Epoch 14/60\n",
            "4616/4616 [==============================] - 0s 8us/sample - loss: 0.6473 - acc: 0.6449 - val_loss: 0.6421 - val_acc: 0.6416\n",
            "Epoch 15/60\n",
            "4616/4616 [==============================] - 0s 8us/sample - loss: 0.6389 - acc: 0.6473 - val_loss: 0.6337 - val_acc: 0.6459\n",
            "Epoch 16/60\n",
            "4616/4616 [==============================] - 0s 9us/sample - loss: 0.6331 - acc: 0.6493 - val_loss: 0.6302 - val_acc: 0.6476\n",
            "Epoch 17/60\n",
            "4616/4616 [==============================] - 0s 9us/sample - loss: 0.6308 - acc: 0.6516 - val_loss: 0.6244 - val_acc: 0.6537\n",
            "Epoch 18/60\n",
            "4616/4616 [==============================] - 0s 8us/sample - loss: 0.6248 - acc: 0.6590 - val_loss: 0.6182 - val_acc: 0.6641\n",
            "Epoch 19/60\n",
            "4616/4616 [==============================] - 0s 9us/sample - loss: 0.6201 - acc: 0.6679 - val_loss: 0.6131 - val_acc: 0.6831\n",
            "Epoch 20/60\n",
            "4616/4616 [==============================] - 0s 9us/sample - loss: 0.6173 - acc: 0.6781 - val_loss: 0.6115 - val_acc: 0.6840\n",
            "Epoch 21/60\n",
            "4616/4616 [==============================] - 0s 9us/sample - loss: 0.6156 - acc: 0.6705 - val_loss: 0.6088 - val_acc: 0.6805\n",
            "Epoch 22/60\n",
            "4616/4616 [==============================] - 0s 8us/sample - loss: 0.6174 - acc: 0.6625 - val_loss: 0.6075 - val_acc: 0.6823\n",
            "Epoch 23/60\n",
            "4616/4616 [==============================] - 0s 9us/sample - loss: 0.6131 - acc: 0.6690 - val_loss: 0.6065 - val_acc: 0.6753\n",
            "Epoch 24/60\n",
            "4616/4616 [==============================] - 0s 9us/sample - loss: 0.6135 - acc: 0.6675 - val_loss: 0.6084 - val_acc: 0.6762\n",
            "Epoch 25/60\n",
            "4616/4616 [==============================] - 0s 9us/sample - loss: 0.6140 - acc: 0.6720 - val_loss: 0.6078 - val_acc: 0.6736\n",
            "Epoch 26/60\n",
            "4616/4616 [==============================] - 0s 10us/sample - loss: 0.6175 - acc: 0.6692 - val_loss: 0.6046 - val_acc: 0.6944\n",
            "Epoch 27/60\n",
            "4616/4616 [==============================] - 0s 9us/sample - loss: 0.6124 - acc: 0.6753 - val_loss: 0.6085 - val_acc: 0.6814\n",
            "Epoch 28/60\n",
            "4616/4616 [==============================] - 0s 9us/sample - loss: 0.6173 - acc: 0.6683 - val_loss: 0.6036 - val_acc: 0.6909\n",
            "Epoch 29/60\n",
            "4616/4616 [==============================] - 0s 8us/sample - loss: 0.6109 - acc: 0.6763 - val_loss: 0.6042 - val_acc: 0.6900\n",
            "Epoch 30/60\n",
            "4616/4616 [==============================] - 0s 10us/sample - loss: 0.6112 - acc: 0.6746 - val_loss: 0.6045 - val_acc: 0.6840\n",
            "Epoch 31/60\n",
            "4616/4616 [==============================] - 0s 9us/sample - loss: 0.6157 - acc: 0.6610 - val_loss: 0.6064 - val_acc: 0.6788\n",
            "Epoch 32/60\n",
            "4616/4616 [==============================] - 0s 10us/sample - loss: 0.6170 - acc: 0.6705 - val_loss: 0.6051 - val_acc: 0.6909\n",
            "Epoch 33/60\n",
            "4616/4616 [==============================] - 0s 8us/sample - loss: 0.6115 - acc: 0.6772 - val_loss: 0.6059 - val_acc: 0.6857\n",
            "Epoch 34/60\n",
            "4616/4616 [==============================] - 0s 10us/sample - loss: 0.6135 - acc: 0.6707 - val_loss: 0.6045 - val_acc: 0.6944\n",
            "Epoch 35/60\n",
            "4616/4616 [==============================] - 0s 10us/sample - loss: 0.6114 - acc: 0.6740 - val_loss: 0.6049 - val_acc: 0.6797\n",
            "Epoch 36/60\n",
            "4616/4616 [==============================] - 0s 10us/sample - loss: 0.6248 - acc: 0.6495 - val_loss: 0.6040 - val_acc: 0.6831\n",
            "Epoch 37/60\n",
            "4616/4616 [==============================] - 0s 8us/sample - loss: 0.6106 - acc: 0.6729 - val_loss: 0.6118 - val_acc: 0.6667\n",
            "Epoch 38/60\n",
            "4616/4616 [==============================] - 0s 9us/sample - loss: 0.6160 - acc: 0.6690 - val_loss: 0.6047 - val_acc: 0.6797\n",
            "Epoch 39/60\n",
            "4616/4616 [==============================] - 0s 8us/sample - loss: 0.6150 - acc: 0.6696 - val_loss: 0.6042 - val_acc: 0.6926\n",
            "Epoch 40/60\n",
            "4616/4616 [==============================] - 0s 8us/sample - loss: 0.6111 - acc: 0.6820 - val_loss: 0.6093 - val_acc: 0.6701\n",
            "Epoch 41/60\n",
            "4616/4616 [==============================] - 0s 8us/sample - loss: 0.6139 - acc: 0.6705 - val_loss: 0.6056 - val_acc: 0.6762\n",
            "Epoch 42/60\n",
            "4616/4616 [==============================] - 0s 9us/sample - loss: 0.6125 - acc: 0.6731 - val_loss: 0.6044 - val_acc: 0.6978\n",
            "Epoch 43/60\n",
            "4616/4616 [==============================] - 0s 9us/sample - loss: 0.6127 - acc: 0.6688 - val_loss: 0.6035 - val_acc: 0.7039\n",
            "Epoch 44/60\n",
            "4616/4616 [==============================] - 0s 8us/sample - loss: 0.6110 - acc: 0.6735 - val_loss: 0.6041 - val_acc: 0.6892\n",
            "Epoch 45/60\n",
            "4616/4616 [==============================] - 0s 8us/sample - loss: 0.6104 - acc: 0.6718 - val_loss: 0.6032 - val_acc: 0.6926\n",
            "Epoch 46/60\n",
            "4616/4616 [==============================] - 0s 8us/sample - loss: 0.6106 - acc: 0.6770 - val_loss: 0.6047 - val_acc: 0.6840\n",
            "Epoch 47/60\n",
            "4616/4616 [==============================] - 0s 9us/sample - loss: 0.6101 - acc: 0.6744 - val_loss: 0.6043 - val_acc: 0.6736\n",
            "Epoch 48/60\n",
            "4616/4616 [==============================] - 0s 8us/sample - loss: 0.6105 - acc: 0.6746 - val_loss: 0.6038 - val_acc: 0.6797\n",
            "Epoch 49/60\n",
            "4616/4616 [==============================] - 0s 10us/sample - loss: 0.6104 - acc: 0.6698 - val_loss: 0.6027 - val_acc: 0.6857\n",
            "Epoch 50/60\n",
            "4616/4616 [==============================] - 0s 9us/sample - loss: 0.6099 - acc: 0.6746 - val_loss: 0.6041 - val_acc: 0.6900\n",
            "Epoch 51/60\n",
            "4616/4616 [==============================] - 0s 8us/sample - loss: 0.6100 - acc: 0.6735 - val_loss: 0.6033 - val_acc: 0.6961\n",
            "Epoch 52/60\n",
            "4616/4616 [==============================] - 0s 9us/sample - loss: 0.6099 - acc: 0.6766 - val_loss: 0.6028 - val_acc: 0.6935\n",
            "Epoch 53/60\n",
            "4616/4616 [==============================] - 0s 10us/sample - loss: 0.6124 - acc: 0.6631 - val_loss: 0.6026 - val_acc: 0.6935\n",
            "Epoch 54/60\n",
            "4616/4616 [==============================] - 0s 9us/sample - loss: 0.6123 - acc: 0.6731 - val_loss: 0.6033 - val_acc: 0.6909\n",
            "Epoch 55/60\n",
            "4616/4616 [==============================] - 0s 8us/sample - loss: 0.6105 - acc: 0.6705 - val_loss: 0.6026 - val_acc: 0.6952\n",
            "Epoch 56/60\n",
            "4616/4616 [==============================] - 0s 8us/sample - loss: 0.6150 - acc: 0.6716 - val_loss: 0.6034 - val_acc: 0.6857\n",
            "Epoch 57/60\n",
            "4616/4616 [==============================] - 0s 8us/sample - loss: 0.6136 - acc: 0.6616 - val_loss: 0.6030 - val_acc: 0.6848\n",
            "Epoch 58/60\n",
            "4616/4616 [==============================] - 0s 9us/sample - loss: 0.6093 - acc: 0.6677 - val_loss: 0.6078 - val_acc: 0.6831\n",
            "Epoch 59/60\n",
            "4616/4616 [==============================] - 0s 9us/sample - loss: 0.6170 - acc: 0.6698 - val_loss: 0.6026 - val_acc: 0.6857\n",
            "Epoch 60/60\n",
            "4616/4616 [==============================] - 0s 9us/sample - loss: 0.6152 - acc: 0.6633 - val_loss: 0.6030 - val_acc: 0.6892\n"
          ],
          "name": "stdout"
        }
      ]
    },
    {
      "cell_type": "code",
      "metadata": {
        "id": "vz5BBN2zVOni",
        "colab_type": "code",
        "colab": {
          "base_uri": "https://localhost:8080/",
          "height": 68
        },
        "outputId": "9616c72d-6370-4d76-a80d-e76a6e78c566"
      },
      "source": [
        "# Evaluation = current numbers seem off and not sure what's going on...\n",
        "results = classifier.evaluate(x_test, y_test)\n",
        "\n",
        "print(classifier.metrics_names)\n",
        "print(results)"
      ],
      "execution_count": 168,
      "outputs": [
        {
          "output_type": "stream",
          "text": [
            "1443/1443 [==============================] - 0s 46us/sample - loss: 0.6152 - acc: 0.6708\n",
            "['loss', 'acc']\n",
            "[0.6151736778925462, 0.67082465]\n"
          ],
          "name": "stdout"
        }
      ]
    },
    {
      "cell_type": "code",
      "metadata": {
        "id": "RiUSguQrsLuR",
        "colab_type": "code",
        "colab": {}
      },
      "source": [
        "# Trying to separate the data w/ subset running white and black so we can then see if model gives FPR, FN, etc at more equal rate\n",
        "\n",
        "race_cauc = df_test.loc[df_test[\"race_caucasian\"] == 1]\n",
        "race_afam = df_test.loc[df_test[\"race_african-american\"] == 1]\n",
        "\n",
        "x_cauc_test = race_cauc[features].copy()\n",
        "y_cauc_test = race_cauc['is_recid'].copy()\n",
        "\n",
        "x_afam_test = race_afam[features].copy()\n",
        "y_afam_test = race_afam['is_recid'].copy()"
      ],
      "execution_count": 0,
      "outputs": []
    },
    {
      "cell_type": "code",
      "metadata": {
        "id": "KXnP5HTKtLMJ",
        "colab_type": "code",
        "colab": {}
      },
      "source": [
        "# x_cauc_test.head()"
      ],
      "execution_count": 0,
      "outputs": []
    },
    {
      "cell_type": "code",
      "metadata": {
        "id": "8TV5O5bJLI51",
        "colab_type": "code",
        "colab": {}
      },
      "source": [
        "# Now need to break down by demographics and compare the rates between groups\n",
        "\n",
        "def compute_eval_metrics(references, predictions):\n",
        "  tn, fp, fn, tp = confusion_matrix(references, predictions).ravel()\n",
        "  precision = tp / float(tp + fp)\n",
        "  recall = tp / float(tp + fn)\n",
        "  false_positive_rate = fp / float(fp + tn)\n",
        "  false_negative_rate = fn / float(fn + tp)\n",
        "  return precision, recall, false_positive_rate, false_negative_rate"
      ],
      "execution_count": 0,
      "outputs": []
    },
    {
      "cell_type": "code",
      "metadata": {
        "id": "S-7D77PygAkx",
        "colab_type": "code",
        "colab": {}
      },
      "source": [
        "# Running the isolated subgroups through the model and seeing what predictions we get\n",
        "y_pred_cauc = classifier.predict_classes(x_cauc_test)\n",
        "y_pred_afam = classifier.predict_classes(x_afam_test)"
      ],
      "execution_count": 0,
      "outputs": []
    },
    {
      "cell_type": "code",
      "metadata": {
        "id": "USIg7GvYbJQM",
        "colab_type": "code",
        "colab": {
          "base_uri": "https://localhost:8080/",
          "height": 51
        },
        "outputId": "d2d1b5e6-d58a-4b7e-9a68-229893df25ce"
      },
      "source": [
        "# Expecting to run metrics and see for each subgroup y_test_cauc and y_test_afam a better or more similar FPR so that we can achevie \n",
        "# something close to classification parity\n",
        "\n",
        "from sklearn.metrics import confusion_matrix\n",
        "\n",
        "ordinal_overall_metrics = compute_eval_metrics(y_cauc_test, y_pred_cauc)\n",
        "print(\"Precision = \", ordinal_overall_metrics[0], \"Recall = \", ordinal_overall_metrics[1], \"Overall FPR =\", ordinal_overall_metrics[2], \"Overall FNR =\", ordinal_overall_metrics[3])"
      ],
      "execution_count": 21,
      "outputs": [
        {
          "output_type": "stream",
          "text": [
            "(0.5824742268041238, 0.5885416666666666, 0.2852112676056338, 0.4114583333333333)\n",
            "Precision =  0.5824742268041238 Recall =  0.5885416666666666 Overall FPR = 0.2852112676056338 Overall FNR = 0.4114583333333333\n"
          ],
          "name": "stdout"
        }
      ]
    },
    {
      "cell_type": "code",
      "metadata": {
        "id": "h9_OwCADLUUo",
        "colab_type": "code",
        "colab": {}
      },
      "source": [
        "# New feature selection, remove race and just use age, violent recid, age_cat, priors_count, charge degree?, two year recid as well..."
      ],
      "execution_count": 0,
      "outputs": []
    },
    {
      "cell_type": "code",
      "metadata": {
        "id": "L_Cj_lYAzYLC",
        "colab_type": "code",
        "colab": {}
      },
      "source": [
        "ordinal_overall_metrics = compute_eval_metrics(y_afam_test, y_pred_afam)\n",
        "print(\"Precision = \", ordinal_overall_metrics[0], \"Recall = \", ordinal_overall_metrics[1], \"Overall FPR =\", ordinal_overall_metrics[2], \"Overall FNR =\", ordinal_overall_metrics[3])"
      ],
      "execution_count": 0,
      "outputs": []
    },
    {
      "cell_type": "code",
      "metadata": {
        "id": "yr4tGVpLfXXJ",
        "colab_type": "code",
        "colab": {}
      },
      "source": [
        "# Make sure main model is run once and then rerun the build of classifier above"
      ],
      "execution_count": 0,
      "outputs": []
    },
    {
      "cell_type": "code",
      "metadata": {
        "id": "1xDs8_EQoGLM",
        "colab_type": "code",
        "colab": {}
      },
      "source": [
        "df_no_race = df_all[[\"sex\", \"age\", \"priors_count\", \"is_recid\"]].copy()"
      ],
      "execution_count": 0,
      "outputs": []
    },
    {
      "cell_type": "code",
      "metadata": {
        "id": "cZ0kP-8CnoE_",
        "colab_type": "code",
        "colab": {}
      },
      "source": [
        "def convert_sex(row):\n",
        "  if row[\"sex\"] == \"male\":\n",
        "    return 0\n",
        "  elif row[\"sex\"] == \"female\":\n",
        "    return 1\n",
        "  else:\n",
        "    return 2\n",
        "  \n",
        "def normalize_age(row, max_age):\n",
        "  return row[\"age\"] / max_age\n",
        "\n",
        "\n",
        "# The preferred way to normalize categorical data:\n",
        "df_2 = pd.get_dummies(df_no_race,columns=[\"sex\"], prefix=[\"sex\"])\n",
        "\n",
        "df_2[\"age\"] = df_2.apply(lambda defendant: normalize_age(defendant, df_2[\"age\"].max()), axis=1)\n",
        "\n",
        "# Further preprocessing to scale priors count\n",
        "from sklearn.preprocessing import MinMaxScaler\n",
        "\n",
        "scaler = MinMaxScaler()\n",
        "x = df_2['priors_count'].values\n",
        "df_2['priors_count'] = scaler.fit_transform(x.reshape(-1,1))"
      ],
      "execution_count": 0,
      "outputs": []
    },
    {
      "cell_type": "code",
      "metadata": {
        "id": "tPIBrraLmuXd",
        "colab_type": "code",
        "colab": {}
      },
      "source": [
        "features = df_2.columns.tolist()\n",
        "features.remove(\"is_recid\")\n",
        "\n",
        "x_train = df_train[features].copy()\n",
        "y_train = df_train[\"is_recid\"].copy()\n",
        "\n",
        "x_validation = df_validation[features].copy()\n",
        "y_validation = df_validation[\"is_recid\"].copy()\n",
        "\n",
        "x_test = df_test[features].copy()\n",
        "y_test = df_test[\"is_recid\"].copy()"
      ],
      "execution_count": 0,
      "outputs": []
    },
    {
      "cell_type": "code",
      "metadata": {
        "id": "PiIo2ej3pX7g",
        "colab_type": "code",
        "colab": {}
      },
      "source": [
        "print(features)"
      ],
      "execution_count": 0,
      "outputs": []
    },
    {
      "cell_type": "code",
      "metadata": {
        "id": "GyuioVbuhYX9",
        "colab_type": "code",
        "colab": {}
      },
      "source": [
        "# df_test.head()\n",
        "race_cauc = df_test.loc[df_test[\"race_Caucasian\"] == 1]\n",
        "race_afam = df_test.loc[df_test[\"race_African-American\"] == 1]\n",
        "\n",
        "x_cauc_test = race_cauc[features].copy()\n",
        "y_cauc_test = race_cauc['is_recid'].copy()\n",
        "\n",
        "x_afam_test = race_afam[features].copy()\n",
        "y_afam_test = race_afam['is_recid'].copy()"
      ],
      "execution_count": 0,
      "outputs": []
    },
    {
      "cell_type": "code",
      "metadata": {
        "id": "PgPR-b6NiQaV",
        "colab_type": "code",
        "colab": {}
      },
      "source": [
        "# Running the isolated subgroups through the model and seeing what predictions we get\n",
        "y_pred_cauc = classifier.predict_classes(x_cauc_test)\n",
        "y_pred_afam = classifier.predict_classes(x_afam_test)"
      ],
      "execution_count": 0,
      "outputs": []
    },
    {
      "cell_type": "code",
      "metadata": {
        "id": "vIY644SFl86u",
        "colab_type": "code",
        "colab": {
          "base_uri": "https://localhost:8080/",
          "height": 34
        },
        "outputId": "2e7a4fb8-818d-46a3-e277-5adeaa7d7b2b"
      },
      "source": [
        "from sklearn.metrics import confusion_matrix\n",
        "\n",
        "ordinal_overall_metrics = compute_eval_metrics(y_cauc_test, y_pred_cauc)\n",
        "print(\"Precision = \", ordinal_overall_metrics[0], \"Recall = \", ordinal_overall_metrics[1], \"Overall FPR =\", ordinal_overall_metrics[2], \"Overall FNR =\", ordinal_overall_metrics[3])"
      ],
      "execution_count": 79,
      "outputs": [
        {
          "output_type": "stream",
          "text": [
            "Precision =  0.46808510638297873 Recall =  0.34375 Overall FPR = 0.2640845070422535 Overall FNR = 0.65625\n"
          ],
          "name": "stdout"
        }
      ]
    },
    {
      "cell_type": "code",
      "metadata": {
        "id": "b0Ke7YT0mOLU",
        "colab_type": "code",
        "colab": {
          "base_uri": "https://localhost:8080/",
          "height": 34
        },
        "outputId": "6afe3248-1e9c-42fb-cf4b-ea2da3b0975a"
      },
      "source": [
        "ordinal_overall_metrics = compute_eval_metrics(y_afam_test, y_pred_afam)\n",
        "print(\"Precision = \", ordinal_overall_metrics[0], \"Recall = \", ordinal_overall_metrics[1], \"Overall FPR =\", ordinal_overall_metrics[2], \"Overall FNR =\", ordinal_overall_metrics[3])"
      ],
      "execution_count": 80,
      "outputs": [
        {
          "output_type": "stream",
          "text": [
            "Precision =  0.6479400749063671 Recall =  0.4128878281622912 Overall FPR = 0.28923076923076924 Overall FNR = 0.5871121718377088\n"
          ],
          "name": "stdout"
        }
      ]
    },
    {
      "cell_type": "markdown",
      "metadata": {
        "id": "9GtTWGcdo-eQ",
        "colab_type": "text"
      },
      "source": [
        "Inadvertently here we are seeing a very close false positive rate. As we can see above running predictions on columns maintained of age, sex, and prior counts/arrests. This is as close as I was able to acheive in terms of similarity of FPR's between the two racial groups. The goal overall being to eliminate bias and improve prediction fairness"
      ]
    },
    {
      "cell_type": "code",
      "metadata": {
        "id": "Be3fayafqED6",
        "colab_type": "code",
        "colab": {
          "base_uri": "https://localhost:8080/",
          "height": 54
        },
        "outputId": "dfd6c665-1b83-4095-d40c-1932b66e8ef9"
      },
      "source": [
        "'''Only other method that remains is to equalize the number of samples of Caucasian and African-Americans in the sample we are\n",
        "building the model off of.'''"
      ],
      "execution_count": 97,
      "outputs": [
        {
          "output_type": "execute_result",
          "data": {
            "text/plain": [
              "'Only other method that remains is to equalize the number of samples of Caucasian and African-Americans in the sample we are\\nbuilding the model off of.'"
            ]
          },
          "metadata": {
            "tags": []
          },
          "execution_count": 97
        }
      ]
    },
    {
      "cell_type": "code",
      "metadata": {
        "id": "dNAOU17RqQlt",
        "colab_type": "code",
        "colab": {
          "base_uri": "https://localhost:8080/",
          "height": 102
        },
        "outputId": "dd9b1532-0917-4409-e856-5d4632b6ada9"
      },
      "source": [
        "# df_all.query('race == \"Caucasian\"').count() and then get equal sample size by using 2454\n",
        "df_similar = df_all.query('race == \"Caucasian\" or race == \"African-American\"').sample(frac=0.5)\n",
        "df_similar['race'].describe()"
      ],
      "execution_count": 126,
      "outputs": [
        {
          "output_type": "execute_result",
          "data": {
            "text/plain": [
              "count                 3075\n",
              "unique                   2\n",
              "top       African-American\n",
              "freq                  1855\n",
              "Name: race, dtype: object"
            ]
          },
          "metadata": {
            "tags": []
          },
          "execution_count": 126
        }
      ]
    },
    {
      "cell_type": "code",
      "metadata": {
        "id": "aeWLkSPTq6Gh",
        "colab_type": "code",
        "colab": {}
      },
      "source": [
        "def convert_race(row):\n",
        "  if row[\"race\"] == \"african-american\":\n",
        "    return 0\n",
        "  elif row[\"race\"] == \"caucasian\":\n",
        "    return 1\n",
        "  else:\n",
        "    return 2\n",
        "\n",
        "def convert_sex(row):\n",
        "  if row[\"sex\"] == \"male\":\n",
        "    return 0\n",
        "  elif row[\"sex\"] == \"female\":\n",
        "    return 1\n",
        "  else:\n",
        "    return 2\n",
        "  \n",
        "def normalize_age(row, max_age):\n",
        "  return row[\"age\"] / max_age\n",
        "\n",
        "\n",
        "# The preferred way to normalize categorical data:\n",
        "df_new = pd.get_dummies(df_similar,columns=[\"race\",\"sex\"], prefix=[\"race\",\"sex\"])\n",
        "\n",
        "df_new[\"age\"] = df_new.apply(lambda defendant: normalize_age(defendant, df_new[\"age\"].max()), axis=1)\n",
        "\n",
        "# Further preprocessing to scale priors count\n",
        "from sklearn.preprocessing import MinMaxScaler\n",
        "\n",
        "scaler = MinMaxScaler()\n",
        "x = df_new['priors_count'].values\n",
        "df_new['priors_count'] = scaler.fit_transform(x.reshape(-1,1))"
      ],
      "execution_count": 0,
      "outputs": []
    },
    {
      "cell_type": "code",
      "metadata": {
        "id": "rlFVOwnJsgqj",
        "colab_type": "code",
        "colab": {}
      },
      "source": [
        "# Split into train, validation, test\n",
        "\n",
        "# Total amount of data\n",
        "data_count = len(df_similar.index)\n",
        "\n",
        "# Split into train - test (80-20)\n",
        "train_total = math.floor(data_count * 0.8)\n",
        "test_count = data_count - train_total\n",
        "\n",
        "# Split the training set into train and validation (80-20)\n",
        "train_count = math.floor(train_total * 0.8)\n",
        "validation_count = train_total - train_count\n",
        "\n",
        "# Create the sets - assignment should really be randomized!\n",
        "df_train = df_similar[:train_count]\n",
        "df_validation = df_similar[train_count:train_count+validation_count]\n",
        "df_test = df_similar[train_count+validation_count:]"
      ],
      "execution_count": 0,
      "outputs": []
    },
    {
      "cell_type": "code",
      "metadata": {
        "id": "73IhNMmUsOdo",
        "colab_type": "code",
        "colab": {}
      },
      "source": [
        "features = df_similar.columns.tolist()\n",
        "features.remove(\"is_recid\")\n",
        "\n",
        "x_train = df_train[features].copy()\n",
        "y_train = df_train[\"is_recid\"].copy()\n",
        "\n",
        "x_validation = df_validation[features].copy()\n",
        "y_validation = df_validation[\"is_recid\"].copy()\n",
        "\n",
        "x_test = df_test[features].copy()\n",
        "y_test = df_test[\"is_recid\"].copy()"
      ],
      "execution_count": 0,
      "outputs": []
    },
    {
      "cell_type": "code",
      "metadata": {
        "id": "gmMOVrVAsotO",
        "colab_type": "code",
        "colab": {
          "base_uri": "https://localhost:8080/",
          "height": 54
        },
        "outputId": "f02c16cf-a783-4648-97af-04bccb9067ea"
      },
      "source": [
        "print(features)"
      ],
      "execution_count": 130,
      "outputs": [
        {
          "output_type": "stream",
          "text": [
            "['id', 'name', 'first', 'last', 'compas_screening_date', 'sex', 'dob', 'age', 'age_cat', 'race', 'juv_fel_count', 'decile_score', 'juv_misd_count', 'juv_other_count', 'priors_count', 'days_b_screening_arrest', 'c_jail_in', 'c_jail_out', 'c_case_number', 'c_offense_date', 'c_arrest_date', 'c_days_from_compas', 'c_charge_degree', 'c_charge_desc', 'r_case_number', 'r_charge_degree', 'r_days_from_arrest', 'r_offense_date', 'r_charge_desc', 'r_jail_in', 'r_jail_out', 'violent_recid', 'is_violent_recid', 'vr_case_number', 'vr_charge_degree', 'vr_offense_date', 'vr_charge_desc', 'type_of_assessment', 'decile_score.1', 'score_text', 'screening_date', 'v_type_of_assessment', 'v_decile_score', 'v_score_text', 'v_screening_date', 'in_custody', 'out_custody', 'priors_count.1', 'start', 'end', 'event', 'two_year_recid']\n"
          ],
          "name": "stdout"
        }
      ]
    },
    {
      "cell_type": "code",
      "metadata": {
        "id": "De0M2AFZtg_0",
        "colab_type": "code",
        "colab": {}
      },
      "source": [
        "'''Attempted but could not figure out a way to get equal sample sizes for both groups to run through but ideally would see that a more equal\n",
        "sample size of the two races would bring the FPR and other metrics closer to each other - more fair since we wouldn't have inherently\n",
        "skewed data'''"
      ],
      "execution_count": 0,
      "outputs": []
    }
  ]
}